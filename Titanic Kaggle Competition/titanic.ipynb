{
 "cells": [
  {
   "cell_type": "code",
   "execution_count": 1,
   "metadata": {
    "_cell_guid": "b1076dfc-b9ad-4769-8c92-a6c4dae69d19",
    "_uuid": "8f2839f25d086af736a60e9eeb907d3b93b6e0e5",
    "execution": {
     "iopub.execute_input": "2020-09-18T22:13:21.837956Z",
     "iopub.status.busy": "2020-09-18T22:13:21.836953Z",
     "iopub.status.idle": "2020-09-18T22:13:21.891071Z",
     "shell.execute_reply": "2020-09-18T22:13:21.890060Z"
    },
    "papermill": {
     "duration": 0.125055,
     "end_time": "2020-09-18T22:13:21.891310",
     "exception": false,
     "start_time": "2020-09-18T22:13:21.766255",
     "status": "completed"
    },
    "tags": []
   },
   "outputs": [
    {
     "data": {
      "text/html": [
       "<div>\n",
       "<style scoped>\n",
       "    .dataframe tbody tr th:only-of-type {\n",
       "        vertical-align: middle;\n",
       "    }\n",
       "\n",
       "    .dataframe tbody tr th {\n",
       "        vertical-align: top;\n",
       "    }\n",
       "\n",
       "    .dataframe thead th {\n",
       "        text-align: right;\n",
       "    }\n",
       "</style>\n",
       "<table border=\"1\" class=\"dataframe\">\n",
       "  <thead>\n",
       "    <tr style=\"text-align: right;\">\n",
       "      <th></th>\n",
       "      <th>PassengerId</th>\n",
       "      <th>Survived</th>\n",
       "      <th>Pclass</th>\n",
       "      <th>Name</th>\n",
       "      <th>Sex</th>\n",
       "      <th>Age</th>\n",
       "      <th>SibSp</th>\n",
       "      <th>Parch</th>\n",
       "      <th>Ticket</th>\n",
       "      <th>Fare</th>\n",
       "      <th>Cabin</th>\n",
       "      <th>Embarked</th>\n",
       "    </tr>\n",
       "  </thead>\n",
       "  <tbody>\n",
       "    <tr>\n",
       "      <th>0</th>\n",
       "      <td>1</td>\n",
       "      <td>0</td>\n",
       "      <td>3</td>\n",
       "      <td>Braund, Mr. Owen Harris</td>\n",
       "      <td>male</td>\n",
       "      <td>22.0</td>\n",
       "      <td>1</td>\n",
       "      <td>0</td>\n",
       "      <td>A/5 21171</td>\n",
       "      <td>7.2500</td>\n",
       "      <td>NaN</td>\n",
       "      <td>S</td>\n",
       "    </tr>\n",
       "    <tr>\n",
       "      <th>1</th>\n",
       "      <td>2</td>\n",
       "      <td>1</td>\n",
       "      <td>1</td>\n",
       "      <td>Cumings, Mrs. John Bradley (Florence Briggs Th...</td>\n",
       "      <td>female</td>\n",
       "      <td>38.0</td>\n",
       "      <td>1</td>\n",
       "      <td>0</td>\n",
       "      <td>PC 17599</td>\n",
       "      <td>71.2833</td>\n",
       "      <td>C85</td>\n",
       "      <td>C</td>\n",
       "    </tr>\n",
       "    <tr>\n",
       "      <th>2</th>\n",
       "      <td>3</td>\n",
       "      <td>1</td>\n",
       "      <td>3</td>\n",
       "      <td>Heikkinen, Miss. Laina</td>\n",
       "      <td>female</td>\n",
       "      <td>26.0</td>\n",
       "      <td>0</td>\n",
       "      <td>0</td>\n",
       "      <td>STON/O2. 3101282</td>\n",
       "      <td>7.9250</td>\n",
       "      <td>NaN</td>\n",
       "      <td>S</td>\n",
       "    </tr>\n",
       "    <tr>\n",
       "      <th>3</th>\n",
       "      <td>4</td>\n",
       "      <td>1</td>\n",
       "      <td>1</td>\n",
       "      <td>Futrelle, Mrs. Jacques Heath (Lily May Peel)</td>\n",
       "      <td>female</td>\n",
       "      <td>35.0</td>\n",
       "      <td>1</td>\n",
       "      <td>0</td>\n",
       "      <td>113803</td>\n",
       "      <td>53.1000</td>\n",
       "      <td>C123</td>\n",
       "      <td>S</td>\n",
       "    </tr>\n",
       "    <tr>\n",
       "      <th>4</th>\n",
       "      <td>5</td>\n",
       "      <td>0</td>\n",
       "      <td>3</td>\n",
       "      <td>Allen, Mr. William Henry</td>\n",
       "      <td>male</td>\n",
       "      <td>35.0</td>\n",
       "      <td>0</td>\n",
       "      <td>0</td>\n",
       "      <td>373450</td>\n",
       "      <td>8.0500</td>\n",
       "      <td>NaN</td>\n",
       "      <td>S</td>\n",
       "    </tr>\n",
       "  </tbody>\n",
       "</table>\n",
       "</div>"
      ],
      "text/plain": [
       "   PassengerId  Survived  Pclass  \\\n",
       "0            1         0       3   \n",
       "1            2         1       1   \n",
       "2            3         1       3   \n",
       "3            4         1       1   \n",
       "4            5         0       3   \n",
       "\n",
       "                                                Name     Sex   Age  SibSp  \\\n",
       "0                            Braund, Mr. Owen Harris    male  22.0      1   \n",
       "1  Cumings, Mrs. John Bradley (Florence Briggs Th...  female  38.0      1   \n",
       "2                             Heikkinen, Miss. Laina  female  26.0      0   \n",
       "3       Futrelle, Mrs. Jacques Heath (Lily May Peel)  female  35.0      1   \n",
       "4                           Allen, Mr. William Henry    male  35.0      0   \n",
       "\n",
       "   Parch            Ticket     Fare Cabin Embarked  \n",
       "0      0         A/5 21171   7.2500   NaN        S  \n",
       "1      0          PC 17599  71.2833   C85        C  \n",
       "2      0  STON/O2. 3101282   7.9250   NaN        S  \n",
       "3      0            113803  53.1000  C123        S  \n",
       "4      0            373450   8.0500   NaN        S  "
      ]
     },
     "execution_count": 1,
     "metadata": {},
     "output_type": "execute_result"
    }
   ],
   "source": [
    "# This Python 3 environment comes with many helpful analytics libraries installed\n",
    "# It is defined by the kaggle/python Docker image: https://github.com/kaggle/docker-python\n",
    "# For example, here's several helpful packages to load\n",
    "\n",
    "import numpy as np # linear algebra\n",
    "import pandas as pd # data processing, CSV file I/O (e.g. pd.read_csv)\n",
    "\n",
    "# Input data files are available in the read-only \"../input/\" directory\n",
    "# For example, running this (by clicking run or pressing Shift+Enter) will list all files under the input directory\n",
    "\n",
    "import os\n",
    "for dirname, _, filenames in os.walk('/kaggle/input'):\n",
    "    for filename in filenames:\n",
    "        file = os.path.join(dirname, filename)\n",
    "        if filename == \"train.csv\":\n",
    "            titanic_train = pd.read_csv(file)\n",
    "        elif filename == \"test.csv\":\n",
    "            titanic_test = pd.read_csv(file)\n",
    "\n",
    "\n",
    "        \n",
    "# You can write up to 5GB to the current directory (/kaggle/working/) that gets preserved as output when you create a version using \"Save & Run All\" \n",
    "# You can also write temporary files to /kaggle/temp/, but they won't be saved outside of the current session\n",
    "\n",
    "titanic_train.head()"
   ]
  },
  {
   "cell_type": "code",
   "execution_count": 2,
   "metadata": {
    "execution": {
     "iopub.execute_input": "2020-09-18T22:13:22.016038Z",
     "iopub.status.busy": "2020-09-18T22:13:22.015241Z",
     "iopub.status.idle": "2020-09-18T22:13:24.112604Z",
     "shell.execute_reply": "2020-09-18T22:13:24.111962Z"
    },
    "papermill": {
     "duration": 2.164147,
     "end_time": "2020-09-18T22:13:24.112755",
     "exception": false,
     "start_time": "2020-09-18T22:13:21.948608",
     "status": "completed"
    },
    "tags": []
   },
   "outputs": [
    {
     "data": {
      "image/png": "[encoded data removed]",
      "text/plain": [
       "<Figure size 1440x1080 with 9 Axes>"
      ]
     },
     "metadata": {
      "needs_background": "light"
     },
     "output_type": "display_data"
    }
   ],
   "source": [
    "%matplotlib inline\n",
    "import matplotlib.pyplot as plt\n",
    "titanic_train.hist(bins=50, figsize=(20,15))\n",
    "plt.show()"
   ]
  },
  {
   "cell_type": "code",
   "execution_count": 3,
   "metadata": {
    "_cell_guid": "79c7e3d0-c299-4dcb-8224-4455121ee9b0",
    "_uuid": "d629ff2d2480ee46fbb7e2d37f6b5fab8052498a",
    "execution": {
     "iopub.execute_input": "2020-09-18T22:13:24.243283Z",
     "iopub.status.busy": "2020-09-18T22:13:24.242368Z",
     "iopub.status.idle": "2020-09-18T22:13:24.246279Z",
     "shell.execute_reply": "2020-09-18T22:13:24.246841Z"
    },
    "papermill": {
     "duration": 0.077637,
     "end_time": "2020-09-18T22:13:24.247005",
     "exception": false,
     "start_time": "2020-09-18T22:13:24.169368",
     "status": "completed"
    },
    "tags": []
   },
   "outputs": [
    {
     "name": "stdout",
     "output_type": "stream",
     "text": [
      "<class 'pandas.core.frame.DataFrame'>\n",
      "RangeIndex: 891 entries, 0 to 890\n",
      "Data columns (total 12 columns):\n",
      " #   Column       Non-Null Count  Dtype  \n",
      "---  ------       --------------  -----  \n",
      " 0   PassengerId  891 non-null    int64  \n",
      " 1   Survived     891 non-null    int64  \n",
      " 2   Pclass       891 non-null    int64  \n",
      " 3   Name         891 non-null    object \n",
      " 4   Sex          891 non-null    object \n",
      " 5   Age          714 non-null    float64\n",
      " 6   SibSp        891 non-null    int64  \n",
      " 7   Parch        891 non-null    int64  \n",
      " 8   Ticket       891 non-null    object \n",
      " 9   Fare         891 non-null    float64\n",
      " 10  Cabin        204 non-null    object \n",
      " 11  Embarked     889 non-null    object \n",
      "dtypes: float64(2), int64(5), object(5)\n",
      "memory usage: 83.7+ KB\n"
     ]
    }
   ],
   "source": [
    "#Check what attributes are objects and which are ints\n",
    "titanic_train.info()"
   ]
  },
  {
   "cell_type": "code",
   "execution_count": 4,
   "metadata": {
    "execution": {
     "iopub.execute_input": "2020-09-18T22:13:24.389324Z",
     "iopub.status.busy": "2020-09-18T22:13:24.388477Z",
     "iopub.status.idle": "2020-09-18T22:13:24.437674Z",
     "shell.execute_reply": "2020-09-18T22:13:24.436785Z"
    },
    "papermill": {
     "duration": 0.134406,
     "end_time": "2020-09-18T22:13:24.437867",
     "exception": false,
     "start_time": "2020-09-18T22:13:24.303461",
     "status": "completed"
    },
    "tags": []
   },
   "outputs": [
    {
     "data": {
      "text/html": [
       "<div>\n",
       "<style scoped>\n",
       "    .dataframe tbody tr th:only-of-type {\n",
       "        vertical-align: middle;\n",
       "    }\n",
       "\n",
       "    .dataframe tbody tr th {\n",
       "        vertical-align: top;\n",
       "    }\n",
       "\n",
       "    .dataframe thead th {\n",
       "        text-align: right;\n",
       "    }\n",
       "</style>\n",
       "<table border=\"1\" class=\"dataframe\">\n",
       "  <thead>\n",
       "    <tr style=\"text-align: right;\">\n",
       "      <th></th>\n",
       "      <th>PassengerId</th>\n",
       "      <th>Survived</th>\n",
       "      <th>Pclass</th>\n",
       "      <th>Age</th>\n",
       "      <th>SibSp</th>\n",
       "      <th>Parch</th>\n",
       "      <th>Fare</th>\n",
       "    </tr>\n",
       "  </thead>\n",
       "  <tbody>\n",
       "    <tr>\n",
       "      <th>count</th>\n",
       "      <td>891.000000</td>\n",
       "      <td>891.000000</td>\n",
       "      <td>891.000000</td>\n",
       "      <td>714.000000</td>\n",
       "      <td>891.000000</td>\n",
       "      <td>891.000000</td>\n",
       "      <td>891.000000</td>\n",
       "    </tr>\n",
       "    <tr>\n",
       "      <th>mean</th>\n",
       "      <td>446.000000</td>\n",
       "      <td>0.383838</td>\n",
       "      <td>2.308642</td>\n",
       "      <td>29.699118</td>\n",
       "      <td>0.523008</td>\n",
       "      <td>0.381594</td>\n",
       "      <td>32.204208</td>\n",
       "    </tr>\n",
       "    <tr>\n",
       "      <th>std</th>\n",
       "      <td>257.353842</td>\n",
       "      <td>0.486592</td>\n",
       "      <td>0.836071</td>\n",
       "      <td>14.526497</td>\n",
       "      <td>1.102743</td>\n",
       "      <td>0.806057</td>\n",
       "      <td>49.693429</td>\n",
       "    </tr>\n",
       "    <tr>\n",
       "      <th>min</th>\n",
       "      <td>1.000000</td>\n",
       "      <td>0.000000</td>\n",
       "      <td>1.000000</td>\n",
       "      <td>0.420000</td>\n",
       "      <td>0.000000</td>\n",
       "      <td>0.000000</td>\n",
       "      <td>0.000000</td>\n",
       "    </tr>\n",
       "    <tr>\n",
       "      <th>25%</th>\n",
       "      <td>223.500000</td>\n",
       "      <td>0.000000</td>\n",
       "      <td>2.000000</td>\n",
       "      <td>20.125000</td>\n",
       "      <td>0.000000</td>\n",
       "      <td>0.000000</td>\n",
       "      <td>7.910400</td>\n",
       "    </tr>\n",
       "    <tr>\n",
       "      <th>50%</th>\n",
       "      <td>446.000000</td>\n",
       "      <td>0.000000</td>\n",
       "      <td>3.000000</td>\n",
       "      <td>28.000000</td>\n",
       "      <td>0.000000</td>\n",
       "      <td>0.000000</td>\n",
       "      <td>14.454200</td>\n",
       "    </tr>\n",
       "    <tr>\n",
       "      <th>75%</th>\n",
       "      <td>668.500000</td>\n",
       "      <td>1.000000</td>\n",
       "      <td>3.000000</td>\n",
       "      <td>38.000000</td>\n",
       "      <td>1.000000</td>\n",
       "      <td>0.000000</td>\n",
       "      <td>31.000000</td>\n",
       "    </tr>\n",
       "    <tr>\n",
       "      <th>max</th>\n",
       "      <td>891.000000</td>\n",
       "      <td>1.000000</td>\n",
       "      <td>3.000000</td>\n",
       "      <td>80.000000</td>\n",
       "      <td>8.000000</td>\n",
       "      <td>6.000000</td>\n",
       "      <td>512.329200</td>\n",
       "    </tr>\n",
       "  </tbody>\n",
       "</table>\n",
       "</div>"
      ],
      "text/plain": [
       "       PassengerId    Survived      Pclass         Age       SibSp  \\\n",
       "count   891.000000  891.000000  891.000000  714.000000  891.000000   \n",
       "mean    446.000000    0.383838    2.308642   29.699118    0.523008   \n",
       "std     257.353842    0.486592    0.836071   14.526497    1.102743   \n",
       "min       1.000000    0.000000    1.000000    0.420000    0.000000   \n",
       "25%     223.500000    0.000000    2.000000   20.125000    0.000000   \n",
       "50%     446.000000    0.000000    3.000000   28.000000    0.000000   \n",
       "75%     668.500000    1.000000    3.000000   38.000000    1.000000   \n",
       "max     891.000000    1.000000    3.000000   80.000000    8.000000   \n",
       "\n",
       "            Parch        Fare  \n",
       "count  891.000000  891.000000  \n",
       "mean     0.381594   32.204208  \n",
       "std      0.806057   49.693429  \n",
       "min      0.000000    0.000000  \n",
       "25%      0.000000    7.910400  \n",
       "50%      0.000000   14.454200  \n",
       "75%      0.000000   31.000000  \n",
       "max      6.000000  512.329200  "
      ]
     },
     "execution_count": 4,
     "metadata": {},
     "output_type": "execute_result"
    }
   ],
   "source": [
    "titanic_train.describe()"
   ]
  },
  {
   "cell_type": "code",
   "execution_count": 5,
   "metadata": {
    "execution": {
     "iopub.execute_input": "2020-09-18T22:13:24.592685Z",
     "iopub.status.busy": "2020-09-18T22:13:24.591621Z",
     "iopub.status.idle": "2020-09-18T22:13:24.595934Z",
     "shell.execute_reply": "2020-09-18T22:13:24.596713Z"
    },
    "papermill": {
     "duration": 0.085365,
     "end_time": "2020-09-18T22:13:24.596917",
     "exception": false,
     "start_time": "2020-09-18T22:13:24.511552",
     "status": "completed"
    },
    "tags": []
   },
   "outputs": [
    {
     "name": "stdout",
     "output_type": "stream",
     "text": [
      "<class 'pandas.core.frame.DataFrame'>\n",
      "RangeIndex: 891 entries, 0 to 890\n",
      "Data columns (total 7 columns):\n",
      " #   Column       Non-Null Count  Dtype  \n",
      "---  ------       --------------  -----  \n",
      " 0   PassengerId  891 non-null    int64  \n",
      " 1   Pclass       891 non-null    int64  \n",
      " 2   Sex          891 non-null    object \n",
      " 3   Age          714 non-null    float64\n",
      " 4   SibSp        891 non-null    int64  \n",
      " 5   Parch        891 non-null    int64  \n",
      " 6   Embarked     891 non-null    object \n",
      "dtypes: float64(1), int64(4), object(2)\n",
      "memory usage: 48.9+ KB\n"
     ]
    }
   ],
   "source": [
    "#Gets rid of Name and Cabin because they are either incomplete or irrelevant information\n",
    "titanic_label = titanic_train.drop(columns=[\"Name\", \"Cabin\", \"Ticket\", \"Fare\"], axis=1)\n",
    "titanic_trains = titanic_label.drop(columns=[\"Survived\"], axis = 1)\n",
    "titanic_tests = titanic_test.drop(columns=[\"Name\",\"Cabin\", \"Ticket\", \"Fare\"], axis=1)\n",
    "#The Titanic embarked from Southampton with 2200 people so I set NA values to S because most people left from there\n",
    "titanic_trains[\"Embarked\"].fillna(\"S\", inplace=True)\n",
    "titanic_tests[\"Embarked\"].fillna(\"S\", inplace=True)\n",
    "\n",
    "\n",
    "titanic_trains.info()"
   ]
  },
  {
   "cell_type": "code",
   "execution_count": 6,
   "metadata": {
    "execution": {
     "iopub.execute_input": "2020-09-18T22:13:24.732915Z",
     "iopub.status.busy": "2020-09-18T22:13:24.731974Z",
     "iopub.status.idle": "2020-09-18T22:13:24.737085Z",
     "shell.execute_reply": "2020-09-18T22:13:24.736406Z"
    },
    "papermill": {
     "duration": 0.081262,
     "end_time": "2020-09-18T22:13:24.737216",
     "exception": false,
     "start_time": "2020-09-18T22:13:24.655954",
     "status": "completed"
    },
    "tags": []
   },
   "outputs": [
    {
     "data": {
      "text/html": [
       "<div>\n",
       "<style scoped>\n",
       "    .dataframe tbody tr th:only-of-type {\n",
       "        vertical-align: middle;\n",
       "    }\n",
       "\n",
       "    .dataframe tbody tr th {\n",
       "        vertical-align: top;\n",
       "    }\n",
       "\n",
       "    .dataframe thead th {\n",
       "        text-align: right;\n",
       "    }\n",
       "</style>\n",
       "<table border=\"1\" class=\"dataframe\">\n",
       "  <thead>\n",
       "    <tr style=\"text-align: right;\">\n",
       "      <th></th>\n",
       "      <th>PassengerId</th>\n",
       "      <th>Pclass</th>\n",
       "      <th>Sex</th>\n",
       "      <th>Age</th>\n",
       "      <th>SibSp</th>\n",
       "      <th>Parch</th>\n",
       "      <th>Embarked</th>\n",
       "    </tr>\n",
       "  </thead>\n",
       "  <tbody>\n",
       "    <tr>\n",
       "      <th>0</th>\n",
       "      <td>1</td>\n",
       "      <td>3</td>\n",
       "      <td>male</td>\n",
       "      <td>22.0</td>\n",
       "      <td>1</td>\n",
       "      <td>0</td>\n",
       "      <td>S</td>\n",
       "    </tr>\n",
       "    <tr>\n",
       "      <th>1</th>\n",
       "      <td>2</td>\n",
       "      <td>1</td>\n",
       "      <td>female</td>\n",
       "      <td>38.0</td>\n",
       "      <td>1</td>\n",
       "      <td>0</td>\n",
       "      <td>C</td>\n",
       "    </tr>\n",
       "    <tr>\n",
       "      <th>2</th>\n",
       "      <td>3</td>\n",
       "      <td>3</td>\n",
       "      <td>female</td>\n",
       "      <td>26.0</td>\n",
       "      <td>0</td>\n",
       "      <td>0</td>\n",
       "      <td>S</td>\n",
       "    </tr>\n",
       "    <tr>\n",
       "      <th>3</th>\n",
       "      <td>4</td>\n",
       "      <td>1</td>\n",
       "      <td>female</td>\n",
       "      <td>35.0</td>\n",
       "      <td>1</td>\n",
       "      <td>0</td>\n",
       "      <td>S</td>\n",
       "    </tr>\n",
       "    <tr>\n",
       "      <th>4</th>\n",
       "      <td>5</td>\n",
       "      <td>3</td>\n",
       "      <td>male</td>\n",
       "      <td>35.0</td>\n",
       "      <td>0</td>\n",
       "      <td>0</td>\n",
       "      <td>S</td>\n",
       "    </tr>\n",
       "  </tbody>\n",
       "</table>\n",
       "</div>"
      ],
      "text/plain": [
       "   PassengerId  Pclass     Sex   Age  SibSp  Parch Embarked\n",
       "0            1       3    male  22.0      1      0        S\n",
       "1            2       1  female  38.0      1      0        C\n",
       "2            3       3  female  26.0      0      0        S\n",
       "3            4       1  female  35.0      1      0        S\n",
       "4            5       3    male  35.0      0      0        S"
      ]
     },
     "execution_count": 6,
     "metadata": {},
     "output_type": "execute_result"
    }
   ],
   "source": [
    "titanic_trains.head()"
   ]
  },
  {
   "cell_type": "code",
   "execution_count": 7,
   "metadata": {
    "execution": {
     "iopub.execute_input": "2020-09-18T22:13:24.882819Z",
     "iopub.status.busy": "2020-09-18T22:13:24.877122Z",
     "iopub.status.idle": "2020-09-18T22:13:24.960069Z",
     "shell.execute_reply": "2020-09-18T22:13:24.960896Z"
    },
    "papermill": {
     "duration": 0.164551,
     "end_time": "2020-09-18T22:13:24.961099",
     "exception": false,
     "start_time": "2020-09-18T22:13:24.796548",
     "status": "completed"
    },
    "tags": []
   },
   "outputs": [
    {
     "name": "stdout",
     "output_type": "stream",
     "text": [
      "32.92 28.07 18.16\n"
     ]
    }
   ],
   "source": [
    "#this cell breaks up all people in each class on the titanic\n",
    "#then finds the average age for a person in each class\n",
    "first = []\n",
    "sumf = 0\n",
    "second = []\n",
    "sums = 0\n",
    "third = []\n",
    "sumt = 0\n",
    "for i in range (len(titanic_trains[\"Pclass\"])):\n",
    "    if titanic_trains[\"Pclass\"][i] == 1:\n",
    "        first.append(titanic_trains[\"Age\"][i])\n",
    "    elif titanic_trains[\"Pclass\"][i] == 2:\n",
    "        second.append(titanic_trains[\"Age\"][i])\n",
    "    elif titanic_trains[\"Pclass\"][i] == 3:\n",
    "        third.append(titanic_trains[\"Age\"][i])\n",
    "\n",
    "for i in first:\n",
    "    try:\n",
    "        sumf += int(i)\n",
    "    except:\n",
    "        pass\n",
    "for i in second:\n",
    "    try:\n",
    "        sums += int(i)\n",
    "    except:\n",
    "        pass\n",
    "for i in third:\n",
    "    try:\n",
    "        sumt += int(i)\n",
    "    except:\n",
    "        pass\n",
    "    \n",
    "fage = sumf / len(first)\n",
    "sage = sums / len(second)\n",
    "tage = sumt / len(third)\n",
    "    \n",
    "fage = round(fage, 2)\n",
    "sage = round(sage,2)\n",
    "tage = round(tage,2)        \n",
    "print(fage, sage, tage)"
   ]
  },
  {
   "cell_type": "code",
   "execution_count": 8,
   "metadata": {
    "execution": {
     "iopub.execute_input": "2020-09-18T22:13:25.232195Z",
     "iopub.status.busy": "2020-09-18T22:13:25.187457Z",
     "iopub.status.idle": "2020-09-18T22:13:25.238444Z",
     "shell.execute_reply": "2020-09-18T22:13:25.237667Z"
    },
    "papermill": {
     "duration": 0.215246,
     "end_time": "2020-09-18T22:13:25.238598",
     "exception": false,
     "start_time": "2020-09-18T22:13:25.023352",
     "status": "completed"
    },
    "tags": []
   },
   "outputs": [
    {
     "name": "stdout",
     "output_type": "stream",
     "text": [
      "<class 'pandas.core.frame.DataFrame'>\n",
      "RangeIndex: 891 entries, 0 to 890\n",
      "Data columns (total 7 columns):\n",
      " #   Column       Non-Null Count  Dtype  \n",
      "---  ------       --------------  -----  \n",
      " 0   PassengerId  891 non-null    int64  \n",
      " 1   Pclass       891 non-null    int64  \n",
      " 2   Sex          891 non-null    object \n",
      " 3   Age          891 non-null    float64\n",
      " 4   SibSp        891 non-null    int64  \n",
      " 5   Parch        891 non-null    int64  \n",
      " 6   Embarked     891 non-null    object \n",
      "dtypes: float64(1), int64(4), object(2)\n",
      "memory usage: 48.9+ KB\n"
     ]
    },
    {
     "name": "stderr",
     "output_type": "stream",
     "text": [
      "/opt/conda/lib/python3.7/site-packages/ipykernel_launcher.py:20: SettingWithCopyWarning: \n",
      "A value is trying to be set on a copy of a slice from a DataFrame\n",
      "\n",
      "See the caveats in the documentation: https://pandas.pydata.org/pandas-docs/stable/user_guide/indexing.html#returning-a-view-versus-a-copy\n",
      "/opt/conda/lib/python3.7/site-packages/ipykernel_launcher.py:15: SettingWithCopyWarning: \n",
      "A value is trying to be set on a copy of a slice from a DataFrame\n",
      "\n",
      "See the caveats in the documentation: https://pandas.pydata.org/pandas-docs/stable/user_guide/indexing.html#returning-a-view-versus-a-copy\n",
      "  from ipykernel import kernelapp as app\n",
      "/opt/conda/lib/python3.7/site-packages/ipykernel_launcher.py:10: SettingWithCopyWarning: \n",
      "A value is trying to be set on a copy of a slice from a DataFrame\n",
      "\n",
      "See the caveats in the documentation: https://pandas.pydata.org/pandas-docs/stable/user_guide/indexing.html#returning-a-view-versus-a-copy\n",
      "  # Remove the CWD from sys.path while we load stuff.\n",
      "/opt/conda/lib/python3.7/site-packages/ipykernel_launcher.py:38: SettingWithCopyWarning: \n",
      "A value is trying to be set on a copy of a slice from a DataFrame\n",
      "\n",
      "See the caveats in the documentation: https://pandas.pydata.org/pandas-docs/stable/user_guide/indexing.html#returning-a-view-versus-a-copy\n",
      "/opt/conda/lib/python3.7/site-packages/ipykernel_launcher.py:28: SettingWithCopyWarning: \n",
      "A value is trying to be set on a copy of a slice from a DataFrame\n",
      "\n",
      "See the caveats in the documentation: https://pandas.pydata.org/pandas-docs/stable/user_guide/indexing.html#returning-a-view-versus-a-copy\n",
      "/opt/conda/lib/python3.7/site-packages/ipykernel_launcher.py:33: SettingWithCopyWarning: \n",
      "A value is trying to be set on a copy of a slice from a DataFrame\n",
      "\n",
      "See the caveats in the documentation: https://pandas.pydata.org/pandas-docs/stable/user_guide/indexing.html#returning-a-view-versus-a-copy\n"
     ]
    }
   ],
   "source": [
    "#Fills the age value in with the average age for your class aboard the ship\n",
    "#Average age increases significantly as you move from 3rd to 1st class\n",
    "titan = titanic_trains[titanic_trains.isnull().any(axis=1)].head()\n",
    "titan.head()\n",
    "for i in range(len(titanic_trains[\"Pclass\"])):\n",
    "    if titanic_trains[\"Pclass\"][i] == 1:\n",
    "        try:\n",
    "            num = int(titanic_trains[\"Age\"][i])\n",
    "        except:\n",
    "            titanic_trains[\"Age\"][i] = fage\n",
    "    elif titanic_trains[\"Pclass\"][i] == 2:\n",
    "        try:\n",
    "            num = int(titanic_trains[\"Age\"][i])\n",
    "        except:\n",
    "            titanic_trains[\"Age\"][i] = sage\n",
    "    else:\n",
    "        try:\n",
    "            num = int(titanic_trains[\"Age\"][i])\n",
    "        except:\n",
    "            titanic_trains[\"Age\"][i] = tage\n",
    "            \n",
    "            \n",
    "for i in range(len(titanic_tests[\"Pclass\"])):\n",
    "    if titanic_tests[\"Pclass\"][i] == 1:\n",
    "        try:\n",
    "            num = int(titanic_tests[\"Age\"][i])\n",
    "        except:\n",
    "            titanic_tests[\"Age\"][i] = fage\n",
    "    elif titanic_tests[\"Pclass\"][i] == 2:\n",
    "        try:\n",
    "            num = int(titanic_tests[\"Age\"][i])\n",
    "        except:\n",
    "            titanic_tests[\"Age\"][i] = sage\n",
    "    else:\n",
    "        try:\n",
    "            num = int(titanic_tests[\"Age\"][i])\n",
    "        except:\n",
    "            titanic_tests[\"Age\"][i] = tage\n",
    "titanic_trains.info()"
   ]
  },
  {
   "cell_type": "code",
   "execution_count": 9,
   "metadata": {
    "execution": {
     "iopub.execute_input": "2020-09-18T22:13:25.370686Z",
     "iopub.status.busy": "2020-09-18T22:13:25.369873Z",
     "iopub.status.idle": "2020-09-18T22:13:26.426179Z",
     "shell.execute_reply": "2020-09-18T22:13:26.425226Z"
    },
    "papermill": {
     "duration": 1.126127,
     "end_time": "2020-09-18T22:13:26.426343",
     "exception": false,
     "start_time": "2020-09-18T22:13:25.300216",
     "status": "completed"
    },
    "tags": []
   },
   "outputs": [],
   "source": [
    "#Converts the Objects for Sex into 0 or 1 based on female or male\n",
    "from sklearn.preprocessing import OrdinalEncoder\n",
    "temp = titanic_trains[[\"Sex\"]]\n",
    "ordinal_encoder = OrdinalEncoder()\n",
    "temps = ordinal_encoder.fit_transform(temp)\n",
    "titanic_trains[\"Sex\"] = temps\n",
    "\n",
    "\n",
    "from sklearn.preprocessing import OrdinalEncoder\n",
    "temp = titanic_tests[[\"Sex\"]]\n",
    "ordinal_encoder = OrdinalEncoder()\n",
    "temps = ordinal_encoder.fit_transform(temp)\n",
    "titanic_tests[\"Sex\"] = temps"
   ]
  },
  {
   "cell_type": "code",
   "execution_count": 10,
   "metadata": {
    "execution": {
     "iopub.execute_input": "2020-09-18T22:13:26.563810Z",
     "iopub.status.busy": "2020-09-18T22:13:26.562581Z",
     "iopub.status.idle": "2020-09-18T22:13:26.573768Z",
     "shell.execute_reply": "2020-09-18T22:13:26.572948Z"
    },
    "papermill": {
     "duration": 0.084839,
     "end_time": "2020-09-18T22:13:26.573914",
     "exception": false,
     "start_time": "2020-09-18T22:13:26.489075",
     "status": "completed"
    },
    "tags": []
   },
   "outputs": [
    {
     "data": {
      "text/html": [
       "<div>\n",
       "<style scoped>\n",
       "    .dataframe tbody tr th:only-of-type {\n",
       "        vertical-align: middle;\n",
       "    }\n",
       "\n",
       "    .dataframe tbody tr th {\n",
       "        vertical-align: top;\n",
       "    }\n",
       "\n",
       "    .dataframe thead th {\n",
       "        text-align: right;\n",
       "    }\n",
       "</style>\n",
       "<table border=\"1\" class=\"dataframe\">\n",
       "  <thead>\n",
       "    <tr style=\"text-align: right;\">\n",
       "      <th></th>\n",
       "      <th>PassengerId</th>\n",
       "      <th>Pclass</th>\n",
       "      <th>Sex</th>\n",
       "      <th>Age</th>\n",
       "      <th>SibSp</th>\n",
       "      <th>Parch</th>\n",
       "      <th>Embarked</th>\n",
       "    </tr>\n",
       "  </thead>\n",
       "  <tbody>\n",
       "    <tr>\n",
       "      <th>0</th>\n",
       "      <td>1</td>\n",
       "      <td>3</td>\n",
       "      <td>1.0</td>\n",
       "      <td>22.0</td>\n",
       "      <td>1</td>\n",
       "      <td>0</td>\n",
       "      <td>S</td>\n",
       "    </tr>\n",
       "    <tr>\n",
       "      <th>1</th>\n",
       "      <td>2</td>\n",
       "      <td>1</td>\n",
       "      <td>0.0</td>\n",
       "      <td>38.0</td>\n",
       "      <td>1</td>\n",
       "      <td>0</td>\n",
       "      <td>C</td>\n",
       "    </tr>\n",
       "    <tr>\n",
       "      <th>2</th>\n",
       "      <td>3</td>\n",
       "      <td>3</td>\n",
       "      <td>0.0</td>\n",
       "      <td>26.0</td>\n",
       "      <td>0</td>\n",
       "      <td>0</td>\n",
       "      <td>S</td>\n",
       "    </tr>\n",
       "    <tr>\n",
       "      <th>3</th>\n",
       "      <td>4</td>\n",
       "      <td>1</td>\n",
       "      <td>0.0</td>\n",
       "      <td>35.0</td>\n",
       "      <td>1</td>\n",
       "      <td>0</td>\n",
       "      <td>S</td>\n",
       "    </tr>\n",
       "    <tr>\n",
       "      <th>4</th>\n",
       "      <td>5</td>\n",
       "      <td>3</td>\n",
       "      <td>1.0</td>\n",
       "      <td>35.0</td>\n",
       "      <td>0</td>\n",
       "      <td>0</td>\n",
       "      <td>S</td>\n",
       "    </tr>\n",
       "  </tbody>\n",
       "</table>\n",
       "</div>"
      ],
      "text/plain": [
       "   PassengerId  Pclass  Sex   Age  SibSp  Parch Embarked\n",
       "0            1       3  1.0  22.0      1      0        S\n",
       "1            2       1  0.0  38.0      1      0        C\n",
       "2            3       3  0.0  26.0      0      0        S\n",
       "3            4       1  0.0  35.0      1      0        S\n",
       "4            5       3  1.0  35.0      0      0        S"
      ]
     },
     "execution_count": 10,
     "metadata": {},
     "output_type": "execute_result"
    }
   ],
   "source": [
    "titanic_trains.head()"
   ]
  },
  {
   "cell_type": "code",
   "execution_count": 11,
   "metadata": {
    "execution": {
     "iopub.execute_input": "2020-09-18T22:13:26.713431Z",
     "iopub.status.busy": "2020-09-18T22:13:26.712265Z",
     "iopub.status.idle": "2020-09-18T22:13:26.716415Z",
     "shell.execute_reply": "2020-09-18T22:13:26.717304Z"
    },
    "papermill": {
     "duration": 0.080984,
     "end_time": "2020-09-18T22:13:26.717867",
     "exception": false,
     "start_time": "2020-09-18T22:13:26.636883",
     "status": "completed"
    },
    "tags": []
   },
   "outputs": [
    {
     "name": "stdout",
     "output_type": "stream",
     "text": [
      "<class 'pandas.core.frame.DataFrame'>\n",
      "RangeIndex: 418 entries, 0 to 417\n",
      "Data columns (total 7 columns):\n",
      " #   Column       Non-Null Count  Dtype  \n",
      "---  ------       --------------  -----  \n",
      " 0   PassengerId  418 non-null    int64  \n",
      " 1   Pclass       418 non-null    int64  \n",
      " 2   Sex          418 non-null    float64\n",
      " 3   Age          418 non-null    float64\n",
      " 4   SibSp        418 non-null    int64  \n",
      " 5   Parch        418 non-null    int64  \n",
      " 6   Embarked     418 non-null    object \n",
      "dtypes: float64(2), int64(4), object(1)\n",
      "memory usage: 23.0+ KB\n"
     ]
    }
   ],
   "source": [
    "titanic_tests.info()"
   ]
  },
  {
   "cell_type": "code",
   "execution_count": 12,
   "metadata": {
    "execution": {
     "iopub.execute_input": "2020-09-18T22:13:26.854403Z",
     "iopub.status.busy": "2020-09-18T22:13:26.853499Z",
     "iopub.status.idle": "2020-09-18T22:13:26.857910Z",
     "shell.execute_reply": "2020-09-18T22:13:26.857223Z"
    },
    "papermill": {
     "duration": 0.074586,
     "end_time": "2020-09-18T22:13:26.858049",
     "exception": false,
     "start_time": "2020-09-18T22:13:26.783463",
     "status": "completed"
    },
    "tags": []
   },
   "outputs": [],
   "source": [
    "# median = titanic_tests[\"Fare\"].median()\n",
    "# titanic_tests[\"Fare\"][152] = median\n",
    "# titanic_tests[\"Fare\"][152]"
   ]
  },
  {
   "cell_type": "code",
   "execution_count": 13,
   "metadata": {
    "execution": {
     "iopub.execute_input": "2020-09-18T22:13:27.001321Z",
     "iopub.status.busy": "2020-09-18T22:13:27.000222Z",
     "iopub.status.idle": "2020-09-18T22:13:27.004182Z",
     "shell.execute_reply": "2020-09-18T22:13:27.003369Z"
    },
    "papermill": {
     "duration": 0.082714,
     "end_time": "2020-09-18T22:13:27.004317",
     "exception": false,
     "start_time": "2020-09-18T22:13:26.921603",
     "status": "completed"
    },
    "tags": []
   },
   "outputs": [],
   "source": [
    "#Converts the Objects for Embarked into 0, 1, or 2 based on Southampton, Cherbourg, and Queenstown\n",
    "temp = titanic_trains[[\"Embarked\"]]\n",
    "ordinal_encoder = OrdinalEncoder()\n",
    "temps = ordinal_encoder.fit_transform(temp)\n",
    "titanic_trains[\"Embarked\"] = temps\n",
    "\n",
    "temp = titanic_tests[[\"Embarked\"]]\n",
    "ordinal_encoder = OrdinalEncoder()\n",
    "temps = ordinal_encoder.fit_transform(temp)\n",
    "titanic_tests[\"Embarked\"] = temps"
   ]
  },
  {
   "cell_type": "code",
   "execution_count": 14,
   "metadata": {
    "execution": {
     "iopub.execute_input": "2020-09-18T22:13:27.146791Z",
     "iopub.status.busy": "2020-09-18T22:13:27.145773Z",
     "iopub.status.idle": "2020-09-18T22:13:27.151295Z",
     "shell.execute_reply": "2020-09-18T22:13:27.150552Z"
    },
    "papermill": {
     "duration": 0.084714,
     "end_time": "2020-09-18T22:13:27.151417",
     "exception": false,
     "start_time": "2020-09-18T22:13:27.066703",
     "status": "completed"
    },
    "tags": []
   },
   "outputs": [
    {
     "data": {
      "text/html": [
       "<div>\n",
       "<style scoped>\n",
       "    .dataframe tbody tr th:only-of-type {\n",
       "        vertical-align: middle;\n",
       "    }\n",
       "\n",
       "    .dataframe tbody tr th {\n",
       "        vertical-align: top;\n",
       "    }\n",
       "\n",
       "    .dataframe thead th {\n",
       "        text-align: right;\n",
       "    }\n",
       "</style>\n",
       "<table border=\"1\" class=\"dataframe\">\n",
       "  <thead>\n",
       "    <tr style=\"text-align: right;\">\n",
       "      <th></th>\n",
       "      <th>PassengerId</th>\n",
       "      <th>Pclass</th>\n",
       "      <th>Sex</th>\n",
       "      <th>Age</th>\n",
       "      <th>SibSp</th>\n",
       "      <th>Parch</th>\n",
       "      <th>Embarked</th>\n",
       "    </tr>\n",
       "  </thead>\n",
       "  <tbody>\n",
       "    <tr>\n",
       "      <th>0</th>\n",
       "      <td>1</td>\n",
       "      <td>3</td>\n",
       "      <td>1.0</td>\n",
       "      <td>22.0</td>\n",
       "      <td>1</td>\n",
       "      <td>0</td>\n",
       "      <td>2.0</td>\n",
       "    </tr>\n",
       "    <tr>\n",
       "      <th>1</th>\n",
       "      <td>2</td>\n",
       "      <td>1</td>\n",
       "      <td>0.0</td>\n",
       "      <td>38.0</td>\n",
       "      <td>1</td>\n",
       "      <td>0</td>\n",
       "      <td>0.0</td>\n",
       "    </tr>\n",
       "    <tr>\n",
       "      <th>2</th>\n",
       "      <td>3</td>\n",
       "      <td>3</td>\n",
       "      <td>0.0</td>\n",
       "      <td>26.0</td>\n",
       "      <td>0</td>\n",
       "      <td>0</td>\n",
       "      <td>2.0</td>\n",
       "    </tr>\n",
       "    <tr>\n",
       "      <th>3</th>\n",
       "      <td>4</td>\n",
       "      <td>1</td>\n",
       "      <td>0.0</td>\n",
       "      <td>35.0</td>\n",
       "      <td>1</td>\n",
       "      <td>0</td>\n",
       "      <td>2.0</td>\n",
       "    </tr>\n",
       "    <tr>\n",
       "      <th>4</th>\n",
       "      <td>5</td>\n",
       "      <td>3</td>\n",
       "      <td>1.0</td>\n",
       "      <td>35.0</td>\n",
       "      <td>0</td>\n",
       "      <td>0</td>\n",
       "      <td>2.0</td>\n",
       "    </tr>\n",
       "  </tbody>\n",
       "</table>\n",
       "</div>"
      ],
      "text/plain": [
       "   PassengerId  Pclass  Sex   Age  SibSp  Parch  Embarked\n",
       "0            1       3  1.0  22.0      1      0       2.0\n",
       "1            2       1  0.0  38.0      1      0       0.0\n",
       "2            3       3  0.0  26.0      0      0       2.0\n",
       "3            4       1  0.0  35.0      1      0       2.0\n",
       "4            5       3  1.0  35.0      0      0       2.0"
      ]
     },
     "execution_count": 14,
     "metadata": {},
     "output_type": "execute_result"
    }
   ],
   "source": [
    "titanic_trains.head()"
   ]
  },
  {
   "cell_type": "code",
   "execution_count": 15,
   "metadata": {
    "execution": {
     "iopub.execute_input": "2020-09-18T22:13:27.289842Z",
     "iopub.status.busy": "2020-09-18T22:13:27.288575Z",
     "iopub.status.idle": "2020-09-18T22:13:27.306808Z",
     "shell.execute_reply": "2020-09-18T22:13:27.306002Z"
    },
    "papermill": {
     "duration": 0.091275,
     "end_time": "2020-09-18T22:13:27.306950",
     "exception": false,
     "start_time": "2020-09-18T22:13:27.215675",
     "status": "completed"
    },
    "tags": []
   },
   "outputs": [
    {
     "data": {
      "text/plain": [
       "array([[-1.73010796,  0.82737724,  0.73769513, -0.44094728,  0.43279337,\n",
       "        -0.47367361,  0.58595414],\n",
       "       [-1.72622007, -1.56610693, -1.35557354,  0.7298095 ,  0.43279337,\n",
       "        -0.47367361, -1.9423032 ],\n",
       "       [-1.72233219,  0.82737724, -1.35557354, -0.14825808, -0.4745452 ,\n",
       "        -0.47367361,  0.58595414],\n",
       "       [-1.71844431, -1.56610693, -1.35557354,  0.51029261,  0.43279337,\n",
       "        -0.47367361,  0.58595414],\n",
       "       [-1.71455642,  0.82737724,  0.73769513,  0.51029261, -0.4745452 ,\n",
       "        -0.47367361,  0.58595414],\n",
       "       [-1.71066854,  0.82737724,  0.73769513, -0.7219289 , -0.4745452 ,\n",
       "        -0.47367361, -0.67817453],\n",
       "       [-1.70678066, -1.56610693,  0.73769513,  1.90056628, -0.4745452 ,\n",
       "        -0.47367361,  0.58595414],\n",
       "       [-1.70289278,  0.82737724,  0.73769513, -1.90439325,  2.24747049,\n",
       "         0.76762988,  0.58595414],\n",
       "       [-1.69900489,  0.82737724, -1.35557354, -0.07508578, -0.4745452 ,\n",
       "         2.00893337,  0.58595414],\n",
       "       [-1.69511701, -0.36936484, -1.35557354, -1.02632566,  0.43279337,\n",
       "        -0.47367361, -1.9423032 ]])"
      ]
     },
     "execution_count": 15,
     "metadata": {},
     "output_type": "execute_result"
    }
   ],
   "source": [
    "from sklearn.preprocessing import StandardScaler\n",
    "\n",
    "X_train_prescale = titanic_trains\n",
    "y_train = titanic_label[\"Survived\"]\n",
    "\n",
    "scaler = StandardScaler()\n",
    "X_train = scaler.fit_transform(X_train_prescale)\n",
    "X_test = scaler.fit_transform(titanic_tests)\n",
    "\n",
    "X_train[0:10]"
   ]
  },
  {
   "cell_type": "code",
   "execution_count": 16,
   "metadata": {
    "execution": {
     "iopub.execute_input": "2020-09-18T22:13:27.448890Z",
     "iopub.status.busy": "2020-09-18T22:13:27.448078Z",
     "iopub.status.idle": "2020-09-18T22:13:27.518897Z",
     "shell.execute_reply": "2020-09-18T22:13:27.518042Z"
    },
    "papermill": {
     "duration": 0.146555,
     "end_time": "2020-09-18T22:13:27.519054",
     "exception": false,
     "start_time": "2020-09-18T22:13:27.372499",
     "status": "completed"
    },
    "tags": []
   },
   "outputs": [],
   "source": [
    "from sklearn import model_selection, metrics\n",
    "\n",
    "def fit_algo(algo, X_train, y_train, cv):\n",
    "    model = algo.fit(X_train, y_train)\n",
    "    acc = round(model.score(X_train, y_train)*100,2)\n",
    "    \n",
    "    train_pred = model_selection.cross_val_predict(algo, X_train, y_train, cv=cv, n_jobs=-1)\n",
    "    acc_cv = round(metrics.accuracy_score(y_train, train_pred)*100,2)\n",
    "    \n",
    "    return train_pred, acc, acc_cv"
   ]
  },
  {
   "cell_type": "code",
   "execution_count": 17,
   "metadata": {
    "execution": {
     "iopub.execute_input": "2020-09-18T22:13:27.658369Z",
     "iopub.status.busy": "2020-09-18T22:13:27.657562Z",
     "iopub.status.idle": "2020-09-18T22:13:29.408460Z",
     "shell.execute_reply": "2020-09-18T22:13:29.407232Z"
    },
    "papermill": {
     "duration": 1.82421,
     "end_time": "2020-09-18T22:13:29.408683",
     "exception": false,
     "start_time": "2020-09-18T22:13:27.584473",
     "status": "completed"
    },
    "tags": []
   },
   "outputs": [
    {
     "name": "stdout",
     "output_type": "stream",
     "text": [
      "Accuracy: 80.7\n",
      "Accuracy of 10 CV-Folds: 80.13\n"
     ]
    }
   ],
   "source": [
    "from sklearn.linear_model import LogisticRegression, LinearRegression, SGDClassifier\n",
    "\n",
    "log_model, acc_log, acc_cv_log = fit_algo(LogisticRegression(random_state=42),X_train, y_train, 10)\n",
    "\n",
    "\n",
    "print(\"Accuracy: \" + str(acc_log))\n",
    "print(\"Accuracy of 10 CV-Folds: \" + str(acc_cv_log))"
   ]
  },
  {
   "cell_type": "code",
   "execution_count": 18,
   "metadata": {
    "execution": {
     "iopub.execute_input": "2020-09-18T22:13:29.560026Z",
     "iopub.status.busy": "2020-09-18T22:13:29.559222Z",
     "iopub.status.idle": "2020-09-18T22:13:31.243416Z",
     "shell.execute_reply": "2020-09-18T22:13:31.242745Z"
    },
    "papermill": {
     "duration": 1.757273,
     "end_time": "2020-09-18T22:13:31.243573",
     "exception": false,
     "start_time": "2020-09-18T22:13:29.486300",
     "status": "completed"
    },
    "tags": []
   },
   "outputs": [
    {
     "name": "stdout",
     "output_type": "stream",
     "text": [
      "Accuracy: 100.0\n",
      "Accuracy of 10 CV-Folds: 79.91\n"
     ]
    }
   ],
   "source": [
    "from sklearn.ensemble import RandomForestClassifier, GradientBoostingClassifier\n",
    "\n",
    "rnd_model, acc_random, acc_cv_random = fit_algo(RandomForestClassifier(random_state=42),X_train, y_train, 10)\n",
    "\n",
    "\n",
    "print(\"Accuracy: \" + str(acc_random))\n",
    "print(\"Accuracy of 10 CV-Folds: \" + str(acc_cv_random))"
   ]
  },
  {
   "cell_type": "code",
   "execution_count": 19,
   "metadata": {
    "execution": {
     "iopub.execute_input": "2020-09-18T22:13:31.388693Z",
     "iopub.status.busy": "2020-09-18T22:13:31.384090Z",
     "iopub.status.idle": "2020-09-18T22:13:31.493109Z",
     "shell.execute_reply": "2020-09-18T22:13:31.492086Z"
    },
    "papermill": {
     "duration": 0.182986,
     "end_time": "2020-09-18T22:13:31.493337",
     "exception": false,
     "start_time": "2020-09-18T22:13:31.310351",
     "status": "completed"
    },
    "tags": []
   },
   "outputs": [
    {
     "name": "stdout",
     "output_type": "stream",
     "text": [
      "Accuracy: 84.51\n",
      "Accuracy of 10 CV-Folds: 79.46\n"
     ]
    }
   ],
   "source": [
    "from sklearn.neighbors import KNeighborsClassifier\n",
    "\n",
    "knn_model, acc_knn, acc_cv_knn = fit_algo(KNeighborsClassifier(),X_train, y_train, 10)\n",
    "\n",
    "print(\"Accuracy: \" + str(acc_knn))\n",
    "print(\"Accuracy of 10 CV-Folds: \" + str(acc_cv_knn))"
   ]
  },
  {
   "cell_type": "code",
   "execution_count": 20,
   "metadata": {
    "execution": {
     "iopub.execute_input": "2020-09-18T22:13:31.635396Z",
     "iopub.status.busy": "2020-09-18T22:13:31.634571Z",
     "iopub.status.idle": "2020-09-18T22:13:31.684248Z",
     "shell.execute_reply": "2020-09-18T22:13:31.683326Z"
    },
    "papermill": {
     "duration": 0.124375,
     "end_time": "2020-09-18T22:13:31.684405",
     "exception": false,
     "start_time": "2020-09-18T22:13:31.560030",
     "status": "completed"
    },
    "tags": []
   },
   "outputs": [
    {
     "name": "stdout",
     "output_type": "stream",
     "text": [
      "Accuracy: 79.01\n",
      "Accuracy of 10 CV-Folds: 78.23\n"
     ]
    }
   ],
   "source": [
    "from sklearn.naive_bayes import GaussianNB, MultinomialNB, BernoulliNB\n",
    "\n",
    "gnb_model, acc_gnb, acc_cv_gnb = fit_algo(GaussianNB(),X_train, y_train, 10)\n",
    "\n",
    "print(\"Accuracy: \" + str(acc_gnb))\n",
    "print(\"Accuracy of 10 CV-Folds: \" + str(acc_cv_gnb))"
   ]
  },
  {
   "cell_type": "code",
   "execution_count": 21,
   "metadata": {
    "execution": {
     "iopub.execute_input": "2020-09-18T22:13:31.829012Z",
     "iopub.status.busy": "2020-09-18T22:13:31.828225Z",
     "iopub.status.idle": "2020-09-18T22:13:31.877889Z",
     "shell.execute_reply": "2020-09-18T22:13:31.876746Z"
    },
    "papermill": {
     "duration": 0.124404,
     "end_time": "2020-09-18T22:13:31.878060",
     "exception": false,
     "start_time": "2020-09-18T22:13:31.753656",
     "status": "completed"
    },
    "tags": []
   },
   "outputs": [
    {
     "name": "stdout",
     "output_type": "stream",
     "text": [
      "Accuracy: 77.67\n",
      "Accuracy of 10 CV-Folds: 77.33\n"
     ]
    }
   ],
   "source": [
    "bnb_model, acc_bnb, acc_cv_bnb = fit_algo(BernoulliNB(),X_train, y_train, 10)\n",
    "\n",
    "print(\"Accuracy: \" + str(acc_bnb))\n",
    "print(\"Accuracy of 10 CV-Folds: \" + str(acc_cv_bnb))"
   ]
  },
  {
   "cell_type": "code",
   "execution_count": 22,
   "metadata": {
    "execution": {
     "iopub.execute_input": "2020-09-18T22:13:32.032245Z",
     "iopub.status.busy": "2020-09-18T22:13:32.031254Z",
     "iopub.status.idle": "2020-09-18T22:13:32.191172Z",
     "shell.execute_reply": "2020-09-18T22:13:32.190056Z"
    },
    "papermill": {
     "duration": 0.244025,
     "end_time": "2020-09-18T22:13:32.191414",
     "exception": false,
     "start_time": "2020-09-18T22:13:31.947389",
     "status": "completed"
    },
    "tags": []
   },
   "outputs": [
    {
     "name": "stdout",
     "output_type": "stream",
     "text": [
      "Accuracy: 84.62\n",
      "Accuracy of 10 CV-Folds: 81.82\n"
     ]
    }
   ],
   "source": [
    "from sklearn.svm import SVC\n",
    "\n",
    "svc_model, acc_svc, acc_cv_svc = fit_algo(SVC(random_state=42),X_train, y_train, 10)\n",
    "\n",
    "print(\"Accuracy: \" + str(acc_svc))\n",
    "print(\"Accuracy of 10 CV-Folds: \" + str(acc_cv_svc))"
   ]
  },
  {
   "cell_type": "code",
   "execution_count": 23,
   "metadata": {
    "execution": {
     "iopub.execute_input": "2020-09-18T22:13:32.345276Z",
     "iopub.status.busy": "2020-09-18T22:13:32.344181Z",
     "iopub.status.idle": "2020-09-18T22:13:32.409694Z",
     "shell.execute_reply": "2020-09-18T22:13:32.408587Z"
    },
    "papermill": {
     "duration": 0.142666,
     "end_time": "2020-09-18T22:13:32.410158",
     "exception": false,
     "start_time": "2020-09-18T22:13:32.267492",
     "status": "completed"
    },
    "tags": []
   },
   "outputs": [
    {
     "name": "stdout",
     "output_type": "stream",
     "text": [
      "Accuracy: 78.56\n",
      "Accuracy of 10 CV-Folds: 76.54\n"
     ]
    }
   ],
   "source": [
    "sgd_model, acc_sgd, acc_cv_sgd = fit_algo(SGDClassifier(random_state=42),X_train, y_train, 10)\n",
    "\n",
    "print(\"Accuracy: \" + str(acc_sgd))\n",
    "print(\"Accuracy of 10 CV-Folds: \" + str(acc_cv_sgd))"
   ]
  },
  {
   "cell_type": "code",
   "execution_count": 24,
   "metadata": {
    "execution": {
     "iopub.execute_input": "2020-09-18T22:13:32.559383Z",
     "iopub.status.busy": "2020-09-18T22:13:32.558272Z",
     "iopub.status.idle": "2020-09-18T22:13:32.613105Z",
     "shell.execute_reply": "2020-09-18T22:13:32.612372Z"
    },
    "papermill": {
     "duration": 0.132959,
     "end_time": "2020-09-18T22:13:32.613235",
     "exception": false,
     "start_time": "2020-09-18T22:13:32.480276",
     "status": "completed"
    },
    "tags": []
   },
   "outputs": [
    {
     "name": "stdout",
     "output_type": "stream",
     "text": [
      "Accuracy: 100.0\n",
      "Accuracy of 10 CV-Folds: 74.3\n"
     ]
    }
   ],
   "source": [
    "from sklearn.tree import DecisionTreeClassifier\n",
    "tree_model, acc_tree, acc_cv_tree = fit_algo(DecisionTreeClassifier(random_state=42),X_train, y_train, 10)\n",
    "\n",
    "print(\"Accuracy: \" + str(acc_tree))\n",
    "print(\"Accuracy of 10 CV-Folds: \" + str(acc_cv_tree))"
   ]
  },
  {
   "cell_type": "code",
   "execution_count": 25,
   "metadata": {
    "execution": {
     "iopub.execute_input": "2020-09-18T22:13:32.763352Z",
     "iopub.status.busy": "2020-09-18T22:13:32.762424Z",
     "iopub.status.idle": "2020-09-18T22:13:33.469865Z",
     "shell.execute_reply": "2020-09-18T22:13:33.469174Z"
    },
    "papermill": {
     "duration": 0.786922,
     "end_time": "2020-09-18T22:13:33.470012",
     "exception": false,
     "start_time": "2020-09-18T22:13:32.683090",
     "status": "completed"
    },
    "tags": []
   },
   "outputs": [
    {
     "name": "stdout",
     "output_type": "stream",
     "text": [
      "Accuracy: 89.11\n",
      "Accuracy of 10 CV-Folds: 80.36\n"
     ]
    }
   ],
   "source": [
    "gboost_model, acc_gboost, acc_cv_gboost = fit_algo(GradientBoostingClassifier(random_state=42),X_train, y_train, 10)\n",
    "\n",
    "print(\"Accuracy: \" + str(acc_gboost))\n",
    "print(\"Accuracy of 10 CV-Folds: \" + str(acc_cv_gboost))"
   ]
  },
  {
   "cell_type": "code",
   "execution_count": 26,
   "metadata": {
    "execution": {
     "iopub.execute_input": "2020-09-18T22:13:33.619037Z",
     "iopub.status.busy": "2020-09-18T22:13:33.618169Z",
     "iopub.status.idle": "2020-09-18T22:13:37.482458Z",
     "shell.execute_reply": "2020-09-18T22:13:37.481642Z"
    },
    "papermill": {
     "duration": 3.94189,
     "end_time": "2020-09-18T22:13:37.482602",
     "exception": false,
     "start_time": "2020-09-18T22:13:33.540712",
     "status": "completed"
    },
    "tags": []
   },
   "outputs": [
    {
     "name": "stderr",
     "output_type": "stream",
     "text": [
      "/opt/conda/lib/python3.7/site-packages/sklearn/neural_network/_multilayer_perceptron.py:585: ConvergenceWarning: Stochastic Optimizer: Maximum iterations (200) reached and the optimization hasn't converged yet.\n",
      "  % self.max_iter, ConvergenceWarning)\n"
     ]
    },
    {
     "name": "stdout",
     "output_type": "stream",
     "text": [
      "Accuracy: 84.51\n",
      "Accuracy of 10 CV-Folds: 81.48\n"
     ]
    }
   ],
   "source": [
    "from sklearn.neural_network import MLPClassifier\n",
    "\n",
    "mlp_model, acc_mlp, acc_cv_mlp = fit_algo(MLPClassifier(random_state=42),X_train, y_train, 10)\n",
    "\n",
    "print(\"Accuracy: \" + str(acc_mlp))\n",
    "print(\"Accuracy of 10 CV-Folds: \" + str(acc_cv_mlp))"
   ]
  },
  {
   "cell_type": "code",
   "execution_count": 27,
   "metadata": {
    "execution": {
     "iopub.execute_input": "2020-09-18T22:13:37.633714Z",
     "iopub.status.busy": "2020-09-18T22:13:37.632952Z",
     "iopub.status.idle": "2020-09-18T22:13:38.765000Z",
     "shell.execute_reply": "2020-09-18T22:13:38.764295Z"
    },
    "papermill": {
     "duration": 1.211156,
     "end_time": "2020-09-18T22:13:38.765141",
     "exception": false,
     "start_time": "2020-09-18T22:13:37.553985",
     "status": "completed"
    },
    "tags": []
   },
   "outputs": [
    {
     "name": "stdout",
     "output_type": "stream",
     "text": [
      "Accuracy: 100.0\n",
      "Accuracy of 10 CV-Folds: 79.57\n"
     ]
    }
   ],
   "source": [
    "from sklearn.ensemble import ExtraTreesClassifier\n",
    "\n",
    "et_model, acc_et, acc_cv_et = fit_algo(ExtraTreesClassifier(random_state=42),X_train, y_train, 10)\n",
    "\n",
    "print(\"Accuracy: \" + str(acc_et))\n",
    "print(\"Accuracy of 10 CV-Folds: \" + str(acc_cv_et))"
   ]
  },
  {
   "cell_type": "markdown",
   "metadata": {
    "papermill": {
     "duration": 0.070979,
     "end_time": "2020-09-18T22:13:38.907286",
     "exception": false,
     "start_time": "2020-09-18T22:13:38.836307",
     "status": "completed"
    },
    "tags": []
   },
   "source": [
    "# From the Various Models that I tested the best ones were RandomForestClassifier, LogisticRegression, GaussianNB,GradientBoostNB, KNearestNeighbor, LinearSVC, SGDClassifier, MLPClassifier, and ExtraTreesClassifier."
   ]
  },
  {
   "cell_type": "markdown",
   "metadata": {
    "papermill": {
     "duration": 0.071144,
     "end_time": "2020-09-18T22:13:39.049461",
     "exception": false,
     "start_time": "2020-09-18T22:13:38.978317",
     "status": "completed"
    },
    "tags": []
   },
   "source": [
    "# Each of these models had accuracy between 78% and 81% with their base parameters. I am going to run grid searches to determine each of their best parameters and then create an ensemble with the models"
   ]
  },
  {
   "cell_type": "markdown",
   "metadata": {
    "papermill": {
     "duration": 0.071324,
     "end_time": "2020-09-18T22:13:39.192228",
     "exception": false,
     "start_time": "2020-09-18T22:13:39.120904",
     "status": "completed"
    },
    "tags": []
   },
   "source": [
    "# Once the Ensemble is created the score will be calculated and the models that worsen the ensemble will be dropped from the Ensemble in order to maximize accuracy"
   ]
  },
  {
   "cell_type": "code",
   "execution_count": 28,
   "metadata": {
    "execution": {
     "iopub.execute_input": "2020-09-18T22:13:39.340324Z",
     "iopub.status.busy": "2020-09-18T22:13:39.339567Z",
     "iopub.status.idle": "2020-09-18T22:13:39.343158Z",
     "shell.execute_reply": "2020-09-18T22:13:39.342467Z"
    },
    "papermill": {
     "duration": 0.079759,
     "end_time": "2020-09-18T22:13:39.343276",
     "exception": false,
     "start_time": "2020-09-18T22:13:39.263517",
     "status": "completed"
    },
    "tags": []
   },
   "outputs": [],
   "source": [
    "from sklearn.model_selection import GridSearchCV"
   ]
  },
  {
   "cell_type": "code",
   "execution_count": 29,
   "metadata": {
    "execution": {
     "iopub.execute_input": "2020-09-18T22:13:39.490687Z",
     "iopub.status.busy": "2020-09-18T22:13:39.489963Z",
     "iopub.status.idle": "2020-09-18T22:13:39.493698Z",
     "shell.execute_reply": "2020-09-18T22:13:39.492948Z"
    },
    "papermill": {
     "duration": 0.079791,
     "end_time": "2020-09-18T22:13:39.493836",
     "exception": false,
     "start_time": "2020-09-18T22:13:39.414045",
     "status": "completed"
    },
    "tags": []
   },
   "outputs": [],
   "source": [
    "#Starting with RandomForestClassifier\n",
    "# from sklearn.model_selection import GridSearchCV\n",
    "\n",
    "# param_grid = {\"n_estimators\":list(range(149,170)), \"max_depth\":[None, 10],  \"min_samples_split\": [2]}\n",
    "# rf = RandomForestClassifier()\n",
    "# grid_search = GridSearchCV(estimator=rf, param_grid=param_grid, cv=10, n_jobs=-1, verbose=2)\n",
    "# grid_search.fit(X_train, y_train)"
   ]
  },
  {
   "cell_type": "code",
   "execution_count": 30,
   "metadata": {
    "execution": {
     "iopub.execute_input": "2020-09-18T22:13:39.641785Z",
     "iopub.status.busy": "2020-09-18T22:13:39.641049Z",
     "iopub.status.idle": "2020-09-18T22:13:39.644802Z",
     "shell.execute_reply": "2020-09-18T22:13:39.644200Z"
    },
    "papermill": {
     "duration": 0.08012,
     "end_time": "2020-09-18T22:13:39.644936",
     "exception": false,
     "start_time": "2020-09-18T22:13:39.564816",
     "status": "completed"
    },
    "tags": []
   },
   "outputs": [],
   "source": [
    "#grid_search.best_params_\n",
    "#I ran the grid search for RandomForestClassifier\n",
    "#Best params are max_depth=10, min_samples_split=3, n_estimators=156"
   ]
  },
  {
   "cell_type": "code",
   "execution_count": 31,
   "metadata": {
    "execution": {
     "iopub.execute_input": "2020-09-18T22:13:39.797271Z",
     "iopub.status.busy": "2020-09-18T22:13:39.796160Z",
     "iopub.status.idle": "2020-09-18T22:13:41.935819Z",
     "shell.execute_reply": "2020-09-18T22:13:41.934960Z"
    },
    "papermill": {
     "duration": 2.21914,
     "end_time": "2020-09-18T22:13:41.935980",
     "exception": false,
     "start_time": "2020-09-18T22:13:39.716840",
     "status": "completed"
    },
    "tags": []
   },
   "outputs": [
    {
     "name": "stdout",
     "output_type": "stream",
     "text": [
      "Accuracy: 93.6\n",
      "Accuracy of 10 CV-Folds: 81.14\n"
     ]
    }
   ],
   "source": [
    "rnd_model, acc_random, acc_cv_random = fit_algo(RandomForestClassifier(n_estimators=156, min_samples_split=3, max_depth=10),X_train, y_train, 10)\n",
    "\n",
    "\n",
    "print(\"Accuracy: \" + str(acc_random))\n",
    "print(\"Accuracy of 10 CV-Folds: \" + str(acc_cv_random))"
   ]
  },
  {
   "cell_type": "markdown",
   "metadata": {
    "papermill": {
     "duration": 0.073055,
     "end_time": "2020-09-18T22:13:42.084298",
     "exception": false,
     "start_time": "2020-09-18T22:13:42.011243",
     "status": "completed"
    },
    "tags": []
   },
   "source": [
    "The 10 CV-Fold Accuracy increased by 2% just with the gridsearch on Random Forest"
   ]
  },
  {
   "cell_type": "code",
   "execution_count": 32,
   "metadata": {
    "execution": {
     "iopub.execute_input": "2020-09-18T22:13:42.257564Z",
     "iopub.status.busy": "2020-09-18T22:13:42.256519Z",
     "iopub.status.idle": "2020-09-18T22:13:42.260873Z",
     "shell.execute_reply": "2020-09-18T22:13:42.260244Z"
    },
    "papermill": {
     "duration": 0.102085,
     "end_time": "2020-09-18T22:13:42.261001",
     "exception": false,
     "start_time": "2020-09-18T22:13:42.158916",
     "status": "completed"
    },
    "tags": []
   },
   "outputs": [],
   "source": [
    "#Grid Search for Gradient Boost\n",
    "\n",
    "# param_grid = {\"learning_rate\":[.01, .005, .02], \"n_estimators\":(list(range(25, 100))), \"min_samples_leaf\":[2] }\n",
    "# gboost = GradientBoostingClassifier(random_state=42)\n",
    "# grid_search = GridSearchCV(estimator=gboost, param_grid=param_grid, cv=3, n_jobs=-1, verbose=2)\n",
    "# grid_search.fit(X_train, y_train)"
   ]
  },
  {
   "cell_type": "code",
   "execution_count": 33,
   "metadata": {
    "execution": {
     "iopub.execute_input": "2020-09-18T22:13:42.413992Z",
     "iopub.status.busy": "2020-09-18T22:13:42.413174Z",
     "iopub.status.idle": "2020-09-18T22:13:42.417223Z",
     "shell.execute_reply": "2020-09-18T22:13:42.417848Z"
    },
    "papermill": {
     "duration": 0.08352,
     "end_time": "2020-09-18T22:13:42.418017",
     "exception": false,
     "start_time": "2020-09-18T22:13:42.334497",
     "status": "completed"
    },
    "tags": []
   },
   "outputs": [],
   "source": [
    "#grid_search.best_params_\n",
    "#Best Params are learning_rate=.01, min_samples_leaf=2, n_estimators=84"
   ]
  },
  {
   "cell_type": "code",
   "execution_count": 34,
   "metadata": {
    "execution": {
     "iopub.execute_input": "2020-09-18T22:13:42.622830Z",
     "iopub.status.busy": "2020-09-18T22:13:42.621756Z",
     "iopub.status.idle": "2020-09-18T22:13:43.369416Z",
     "shell.execute_reply": "2020-09-18T22:13:43.370280Z"
    },
    "papermill": {
     "duration": 0.830112,
     "end_time": "2020-09-18T22:13:43.370531",
     "exception": false,
     "start_time": "2020-09-18T22:13:42.540419",
     "status": "completed"
    },
    "tags": []
   },
   "outputs": [
    {
     "name": "stdout",
     "output_type": "stream",
     "text": [
      "Accuracy: 83.5\n",
      "Accuracy of 10 CV-Folds: 82.38\n"
     ]
    }
   ],
   "source": [
    "gboost_model, acc_gboost, acc_cv_gboost = fit_algo(GradientBoostingClassifier(learning_rate=.01, min_samples_split=2, n_estimators=84, random_state=42),X_train, y_train, 10)\n",
    "\n",
    "print(\"Accuracy: \" + str(acc_gboost))\n",
    "print(\"Accuracy of 10 CV-Folds: \" + str(acc_cv_gboost))"
   ]
  },
  {
   "cell_type": "markdown",
   "metadata": {
    "papermill": {
     "duration": 0.074594,
     "end_time": "2020-09-18T22:13:43.525999",
     "exception": false,
     "start_time": "2020-09-18T22:13:43.451405",
     "status": "completed"
    },
    "tags": []
   },
   "source": [
    "Accuracy Increased by about 1.5% on GradientBoosting"
   ]
  },
  {
   "cell_type": "code",
   "execution_count": 35,
   "metadata": {
    "execution": {
     "iopub.execute_input": "2020-09-18T22:13:43.678145Z",
     "iopub.status.busy": "2020-09-18T22:13:43.677246Z",
     "iopub.status.idle": "2020-09-18T22:13:43.681404Z",
     "shell.execute_reply": "2020-09-18T22:13:43.680611Z"
    },
    "papermill": {
     "duration": 0.081609,
     "end_time": "2020-09-18T22:13:43.681560",
     "exception": false,
     "start_time": "2020-09-18T22:13:43.599951",
     "status": "completed"
    },
    "tags": []
   },
   "outputs": [],
   "source": [
    "# Grid Search for KNN\n",
    "\n",
    "# param_grid = {\"n_neighbors\":list(range(5,25))}\n",
    "# knn = KNeighborsClassifier()\n",
    "# grid_search = GridSearchCV(estimator=knn, param_grid=param_grid, cv=3, n_jobs=-1, verbose=2)\n",
    "# grid_search.fit(X_train, y_train)"
   ]
  },
  {
   "cell_type": "code",
   "execution_count": 36,
   "metadata": {
    "execution": {
     "iopub.execute_input": "2020-09-18T22:13:43.838316Z",
     "iopub.status.busy": "2020-09-18T22:13:43.837411Z",
     "iopub.status.idle": "2020-09-18T22:13:43.840926Z",
     "shell.execute_reply": "2020-09-18T22:13:43.841525Z"
    },
    "papermill": {
     "duration": 0.083716,
     "end_time": "2020-09-18T22:13:43.841677",
     "exception": false,
     "start_time": "2020-09-18T22:13:43.757961",
     "status": "completed"
    },
    "tags": []
   },
   "outputs": [],
   "source": [
    "#grid_search.best_params_\n",
    "#Best result was n_neighbors=11"
   ]
  },
  {
   "cell_type": "code",
   "execution_count": 37,
   "metadata": {
    "execution": {
     "iopub.execute_input": "2020-09-18T22:13:44.001052Z",
     "iopub.status.busy": "2020-09-18T22:13:44.000144Z",
     "iopub.status.idle": "2020-09-18T22:13:44.125451Z",
     "shell.execute_reply": "2020-09-18T22:13:44.124473Z"
    },
    "papermill": {
     "duration": 0.209291,
     "end_time": "2020-09-18T22:13:44.125614",
     "exception": false,
     "start_time": "2020-09-18T22:13:43.916323",
     "status": "completed"
    },
    "tags": []
   },
   "outputs": [
    {
     "name": "stdout",
     "output_type": "stream",
     "text": [
      "Accuracy: 83.84\n",
      "Accuracy of 10 CV-Folds: 81.37\n"
     ]
    }
   ],
   "source": [
    "knn_model, acc_knn, acc_cv_knn = fit_algo(KNeighborsClassifier(n_neighbors=11),X_train, y_train, 10)\n",
    "\n",
    "print(\"Accuracy: \" + str(acc_knn))\n",
    "print(\"Accuracy of 10 CV-Folds: \" + str(acc_cv_knn))"
   ]
  },
  {
   "cell_type": "markdown",
   "metadata": {
    "papermill": {
     "duration": 0.083749,
     "end_time": "2020-09-18T22:13:44.287044",
     "exception": false,
     "start_time": "2020-09-18T22:13:44.203295",
     "status": "completed"
    },
    "tags": []
   },
   "source": [
    "Changing n_neighbors increased accuracy by 1.8%"
   ]
  },
  {
   "cell_type": "code",
   "execution_count": 38,
   "metadata": {
    "execution": {
     "iopub.execute_input": "2020-09-18T22:13:44.452875Z",
     "iopub.status.busy": "2020-09-18T22:13:44.451840Z",
     "iopub.status.idle": "2020-09-18T22:13:44.455161Z",
     "shell.execute_reply": "2020-09-18T22:13:44.454289Z"
    },
    "papermill": {
     "duration": 0.086821,
     "end_time": "2020-09-18T22:13:44.455327",
     "exception": false,
     "start_time": "2020-09-18T22:13:44.368506",
     "status": "completed"
    },
    "tags": []
   },
   "outputs": [],
   "source": [
    "# grid search for svc\n",
    "\n",
    "# param_grid = {\"degree\":(list(range(1,15))), \"gamma\":[\"scale\",.1,\"auto\"]}\n",
    "# svc = SVC(random_state=42)\n",
    "# grid_search = GridSearchCV(estimator=svc, param_grid=param_grid, cv=3, n_jobs=-1, verbose=2)\n",
    "# grid_search.fit(X_train, y_train)"
   ]
  },
  {
   "cell_type": "code",
   "execution_count": 39,
   "metadata": {
    "execution": {
     "iopub.execute_input": "2020-09-18T22:13:44.619470Z",
     "iopub.status.busy": "2020-09-18T22:13:44.618349Z",
     "iopub.status.idle": "2020-09-18T22:13:44.622462Z",
     "shell.execute_reply": "2020-09-18T22:13:44.621837Z"
    },
    "papermill": {
     "duration": 0.085813,
     "end_time": "2020-09-18T22:13:44.622606",
     "exception": false,
     "start_time": "2020-09-18T22:13:44.536793",
     "status": "completed"
    },
    "tags": []
   },
   "outputs": [],
   "source": [
    "# grid_search.best_params_\n",
    "# Best params are degree=1 and gamma=.1"
   ]
  },
  {
   "cell_type": "code",
   "execution_count": 40,
   "metadata": {
    "execution": {
     "iopub.execute_input": "2020-09-18T22:13:44.790109Z",
     "iopub.status.busy": "2020-09-18T22:13:44.789049Z",
     "iopub.status.idle": "2020-09-18T22:13:44.975797Z",
     "shell.execute_reply": "2020-09-18T22:13:44.974673Z"
    },
    "papermill": {
     "duration": 0.273815,
     "end_time": "2020-09-18T22:13:44.975971",
     "exception": false,
     "start_time": "2020-09-18T22:13:44.702156",
     "status": "completed"
    },
    "tags": []
   },
   "outputs": [
    {
     "name": "stdout",
     "output_type": "stream",
     "text": [
      "Accuracy: 83.5\n",
      "Accuracy of 10 CV-Folds: 82.04\n"
     ]
    }
   ],
   "source": [
    "svc_model, acc_svc, acc_cv_svc = fit_algo(SVC(degree=1, gamma=.1,random_state=42),X_train, y_train, 10)\n",
    "\n",
    "print(\"Accuracy: \" + str(acc_svc))\n",
    "print(\"Accuracy of 10 CV-Folds: \" + str(acc_cv_svc))"
   ]
  },
  {
   "cell_type": "markdown",
   "metadata": {
    "papermill": {
     "duration": 0.079278,
     "end_time": "2020-09-18T22:13:45.133502",
     "exception": false,
     "start_time": "2020-09-18T22:13:45.054224",
     "status": "completed"
    },
    "tags": []
   },
   "source": [
    "This was a very small increase but still increased the accuracy by .25"
   ]
  },
  {
   "cell_type": "code",
   "execution_count": 41,
   "metadata": {
    "execution": {
     "iopub.execute_input": "2020-09-18T22:13:45.298246Z",
     "iopub.status.busy": "2020-09-18T22:13:45.297197Z",
     "iopub.status.idle": "2020-09-18T22:13:45.301396Z",
     "shell.execute_reply": "2020-09-18T22:13:45.300605Z"
    },
    "papermill": {
     "duration": 0.089084,
     "end_time": "2020-09-18T22:13:45.301547",
     "exception": false,
     "start_time": "2020-09-18T22:13:45.212463",
     "status": "completed"
    },
    "tags": []
   },
   "outputs": [],
   "source": [
    "#Grid Search for Extra Trees Classifier\n",
    "\n",
    "# param_grid = {\"n_estimators\":(list(range(20,150))),\"max_leaf_nodes\":[None,2,3,4], \"min_samples_split\":[5]}\n",
    "# xtree = ExtraTreesClassifier(random_state=42)\n",
    "# grid_search = GridSearchCV(estimator=xtree, param_grid=param_grid, cv=3, n_jobs=-1, verbose=2)\n",
    "# grid_search.fit(X_train, y_train)"
   ]
  },
  {
   "cell_type": "code",
   "execution_count": 42,
   "metadata": {
    "execution": {
     "iopub.execute_input": "2020-09-18T22:13:45.463895Z",
     "iopub.status.busy": "2020-09-18T22:13:45.463015Z",
     "iopub.status.idle": "2020-09-18T22:13:45.466676Z",
     "shell.execute_reply": "2020-09-18T22:13:45.466058Z"
    },
    "papermill": {
     "duration": 0.086651,
     "end_time": "2020-09-18T22:13:45.466849",
     "exception": false,
     "start_time": "2020-09-18T22:13:45.380198",
     "status": "completed"
    },
    "tags": []
   },
   "outputs": [],
   "source": [
    "# grid_search.best_params_\n",
    "# best params are n_estimators=45 and min_samples_split=5"
   ]
  },
  {
   "cell_type": "code",
   "execution_count": 43,
   "metadata": {
    "execution": {
     "iopub.execute_input": "2020-09-18T22:13:45.648189Z",
     "iopub.status.busy": "2020-09-18T22:13:45.632152Z",
     "iopub.status.idle": "2020-09-18T22:13:46.277950Z",
     "shell.execute_reply": "2020-09-18T22:13:46.276685Z"
    },
    "papermill": {
     "duration": 0.733082,
     "end_time": "2020-09-18T22:13:46.278145",
     "exception": false,
     "start_time": "2020-09-18T22:13:45.545063",
     "status": "completed"
    },
    "tags": []
   },
   "outputs": [
    {
     "name": "stdout",
     "output_type": "stream",
     "text": [
      "Accuracy: 95.29\n",
      "Accuracy of 10 CV-Folds: 80.36\n"
     ]
    }
   ],
   "source": [
    "xtree_model, acc_xtree, acc_cv_xtree = fit_algo(ExtraTreesClassifier(n_estimators=45, min_samples_split=5,random_state=42),X_train, y_train, 10)\n",
    "\n",
    "print(\"Accuracy: \" + str(acc_xtree))\n",
    "print(\"Accuracy of 10 CV-Folds: \" + str(acc_cv_xtree))"
   ]
  },
  {
   "cell_type": "markdown",
   "metadata": {
    "papermill": {
     "duration": 0.102744,
     "end_time": "2020-09-18T22:13:46.469239",
     "exception": false,
     "start_time": "2020-09-18T22:13:46.366495",
     "status": "completed"
    },
    "tags": []
   },
   "source": [
    "This gridsearch increased the cross-val accuracy by 1.5%"
   ]
  },
  {
   "cell_type": "code",
   "execution_count": 44,
   "metadata": {
    "execution": {
     "iopub.execute_input": "2020-09-18T22:13:46.700503Z",
     "iopub.status.busy": "2020-09-18T22:13:46.699456Z",
     "iopub.status.idle": "2020-09-18T22:13:46.702602Z",
     "shell.execute_reply": "2020-09-18T22:13:46.703457Z"
    },
    "papermill": {
     "duration": 0.154393,
     "end_time": "2020-09-18T22:13:46.703663",
     "exception": false,
     "start_time": "2020-09-18T22:13:46.549270",
     "status": "completed"
    },
    "tags": []
   },
   "outputs": [],
   "source": [
    "from sklearn.ensemble import VotingClassifier"
   ]
  },
  {
   "cell_type": "code",
   "execution_count": 45,
   "metadata": {
    "execution": {
     "iopub.execute_input": "2020-09-18T22:13:46.938767Z",
     "iopub.status.busy": "2020-09-18T22:13:46.937693Z",
     "iopub.status.idle": "2020-09-18T22:13:46.941196Z",
     "shell.execute_reply": "2020-09-18T22:13:46.940189Z"
    },
    "papermill": {
     "duration": 0.099185,
     "end_time": "2020-09-18T22:13:46.941339",
     "exception": false,
     "start_time": "2020-09-18T22:13:46.842154",
     "status": "completed"
    },
    "tags": []
   },
   "outputs": [],
   "source": [
    "rnd_model = RandomForestClassifier(n_estimators=156, max_depth=10)\n",
    "knn_model = KNeighborsClassifier(n_neighbors=11)\n",
    "gnb_model = GaussianNB()\n",
    "svc_model = SVC(degree=1, gamma=.1,random_state=42)\n",
    "log_model = LogisticRegression(random_state=42)\n",
    "xtree_model = ExtraTreesClassifier(n_estimators=45, min_samples_split=5,random_state=42)"
   ]
  },
  {
   "cell_type": "code",
   "execution_count": 46,
   "metadata": {
    "execution": {
     "iopub.execute_input": "2020-09-18T22:13:47.107356Z",
     "iopub.status.busy": "2020-09-18T22:13:47.103312Z",
     "iopub.status.idle": "2020-09-18T22:13:47.117450Z",
     "shell.execute_reply": "2020-09-18T22:13:47.116809Z"
    },
    "papermill": {
     "duration": 0.097696,
     "end_time": "2020-09-18T22:13:47.117574",
     "exception": false,
     "start_time": "2020-09-18T22:13:47.019878",
     "status": "completed"
    },
    "tags": []
   },
   "outputs": [
    {
     "data": {
      "text/plain": [
       "LogisticRegression(random_state=42)"
      ]
     },
     "execution_count": 46,
     "metadata": {},
     "output_type": "execute_result"
    }
   ],
   "source": [
    "log_model.fit(X_train,y_train)"
   ]
  },
  {
   "cell_type": "code",
   "execution_count": 47,
   "metadata": {
    "execution": {
     "iopub.execute_input": "2020-09-18T22:13:47.287335Z",
     "iopub.status.busy": "2020-09-18T22:13:47.286181Z",
     "iopub.status.idle": "2020-09-18T22:13:47.713081Z",
     "shell.execute_reply": "2020-09-18T22:13:47.713701Z"
    },
    "papermill": {
     "duration": 0.514988,
     "end_time": "2020-09-18T22:13:47.713920",
     "exception": false,
     "start_time": "2020-09-18T22:13:47.198932",
     "status": "completed"
    },
    "tags": []
   },
   "outputs": [
    {
     "data": {
      "text/plain": [
       "RandomForestClassifier(max_depth=10, n_estimators=156)"
      ]
     },
     "execution_count": 47,
     "metadata": {},
     "output_type": "execute_result"
    }
   ],
   "source": [
    "rnd_model.fit(X_train, y_train)"
   ]
  },
  {
   "cell_type": "code",
   "execution_count": 48,
   "metadata": {
    "execution": {
     "iopub.execute_input": "2020-09-18T22:13:47.885171Z",
     "iopub.status.busy": "2020-09-18T22:13:47.884170Z",
     "iopub.status.idle": "2020-09-18T22:13:47.891545Z",
     "shell.execute_reply": "2020-09-18T22:13:47.890692Z"
    },
    "papermill": {
     "duration": 0.094672,
     "end_time": "2020-09-18T22:13:47.891713",
     "exception": false,
     "start_time": "2020-09-18T22:13:47.797041",
     "status": "completed"
    },
    "tags": []
   },
   "outputs": [
    {
     "data": {
      "text/plain": [
       "KNeighborsClassifier(n_neighbors=11)"
      ]
     },
     "execution_count": 48,
     "metadata": {},
     "output_type": "execute_result"
    }
   ],
   "source": [
    "knn_model.fit(X_train, y_train)"
   ]
  },
  {
   "cell_type": "code",
   "execution_count": 49,
   "metadata": {
    "execution": {
     "iopub.execute_input": "2020-09-18T22:13:48.093884Z",
     "iopub.status.busy": "2020-09-18T22:13:48.092907Z",
     "iopub.status.idle": "2020-09-18T22:13:48.136790Z",
     "shell.execute_reply": "2020-09-18T22:13:48.135959Z"
    },
    "papermill": {
     "duration": 0.136082,
     "end_time": "2020-09-18T22:13:48.136943",
     "exception": false,
     "start_time": "2020-09-18T22:13:48.000861",
     "status": "completed"
    },
    "tags": []
   },
   "outputs": [
    {
     "data": {
      "text/plain": [
       "SVC(degree=1, gamma=0.1, random_state=42)"
      ]
     },
     "execution_count": 49,
     "metadata": {},
     "output_type": "execute_result"
    }
   ],
   "source": [
    "svc_model.fit(X_train, y_train)"
   ]
  },
  {
   "cell_type": "code",
   "execution_count": 50,
   "metadata": {
    "execution": {
     "iopub.execute_input": "2020-09-18T22:13:48.321254Z",
     "iopub.status.busy": "2020-09-18T22:13:48.310104Z",
     "iopub.status.idle": "2020-09-18T22:13:48.415391Z",
     "shell.execute_reply": "2020-09-18T22:13:48.414568Z"
    },
    "papermill": {
     "duration": 0.193738,
     "end_time": "2020-09-18T22:13:48.415553",
     "exception": false,
     "start_time": "2020-09-18T22:13:48.221815",
     "status": "completed"
    },
    "tags": []
   },
   "outputs": [
    {
     "data": {
      "text/plain": [
       "ExtraTreesClassifier(min_samples_split=5, n_estimators=45, random_state=42)"
      ]
     },
     "execution_count": 50,
     "metadata": {},
     "output_type": "execute_result"
    }
   ],
   "source": [
    "xtree_model.fit(X_train, y_train)"
   ]
  },
  {
   "cell_type": "code",
   "execution_count": 51,
   "metadata": {
    "execution": {
     "iopub.execute_input": "2020-09-18T22:13:48.587765Z",
     "iopub.status.busy": "2020-09-18T22:13:48.586654Z",
     "iopub.status.idle": "2020-09-18T22:13:48.590469Z",
     "shell.execute_reply": "2020-09-18T22:13:48.589772Z"
    },
    "papermill": {
     "duration": 0.093087,
     "end_time": "2020-09-18T22:13:48.590613",
     "exception": false,
     "start_time": "2020-09-18T22:13:48.497526",
     "status": "completed"
    },
    "tags": []
   },
   "outputs": [],
   "source": [
    "estimators = [(\"rnd_model\", rnd_model), (\"xtree_model\", xtree_model), (\"svc_model\", svc_model),(\"knn_model\", knn_model), (\"log_model\", log_model)]"
   ]
  },
  {
   "cell_type": "code",
   "execution_count": 52,
   "metadata": {
    "execution": {
     "iopub.execute_input": "2020-09-18T22:13:48.759700Z",
     "iopub.status.busy": "2020-09-18T22:13:48.758590Z",
     "iopub.status.idle": "2020-09-18T22:13:48.763096Z",
     "shell.execute_reply": "2020-09-18T22:13:48.762421Z"
    },
    "papermill": {
     "duration": 0.091332,
     "end_time": "2020-09-18T22:13:48.763241",
     "exception": false,
     "start_time": "2020-09-18T22:13:48.671909",
     "status": "completed"
    },
    "tags": []
   },
   "outputs": [],
   "source": [
    "voting_clf = VotingClassifier(estimators)"
   ]
  },
  {
   "cell_type": "code",
   "execution_count": 53,
   "metadata": {
    "execution": {
     "iopub.execute_input": "2020-09-18T22:13:48.937869Z",
     "iopub.status.busy": "2020-09-18T22:13:48.937028Z",
     "iopub.status.idle": "2020-09-18T22:13:54.612244Z",
     "shell.execute_reply": "2020-09-18T22:13:54.611441Z"
    },
    "papermill": {
     "duration": 5.764328,
     "end_time": "2020-09-18T22:13:54.612424",
     "exception": false,
     "start_time": "2020-09-18T22:13:48.848096",
     "status": "completed"
    },
    "tags": []
   },
   "outputs": [],
   "source": [
    "from sklearn.model_selection import cross_val_score\n",
    "scores = cross_val_score(voting_clf, X_train, y_train, cv=10)"
   ]
  },
  {
   "cell_type": "code",
   "execution_count": 54,
   "metadata": {
    "execution": {
     "iopub.execute_input": "2020-09-18T22:13:54.784399Z",
     "iopub.status.busy": "2020-09-18T22:13:54.783486Z",
     "iopub.status.idle": "2020-09-18T22:13:54.788901Z",
     "shell.execute_reply": "2020-09-18T22:13:54.788099Z"
    },
    "papermill": {
     "duration": 0.092516,
     "end_time": "2020-09-18T22:13:54.789034",
     "exception": false,
     "start_time": "2020-09-18T22:13:54.696518",
     "status": "completed"
    },
    "tags": []
   },
   "outputs": [
    {
     "data": {
      "text/plain": [
       "array([0.82222222, 0.83146067, 0.76404494, 0.86516854, 0.83146067,\n",
       "       0.78651685, 0.82022472, 0.79775281, 0.85393258, 0.84269663])"
      ]
     },
     "execution_count": 54,
     "metadata": {},
     "output_type": "execute_result"
    }
   ],
   "source": [
    "scores"
   ]
  },
  {
   "cell_type": "code",
   "execution_count": 55,
   "metadata": {
    "execution": {
     "iopub.execute_input": "2020-09-18T22:13:54.956692Z",
     "iopub.status.busy": "2020-09-18T22:13:54.955693Z",
     "iopub.status.idle": "2020-09-18T22:13:54.960939Z",
     "shell.execute_reply": "2020-09-18T22:13:54.960120Z"
    },
    "papermill": {
     "duration": 0.0921,
     "end_time": "2020-09-18T22:13:54.961070",
     "exception": false,
     "start_time": "2020-09-18T22:13:54.868970",
     "status": "completed"
    },
    "tags": []
   },
   "outputs": [
    {
     "data": {
      "text/plain": [
       "0.8215480649188514"
      ]
     },
     "execution_count": 55,
     "metadata": {},
     "output_type": "execute_result"
    }
   ],
   "source": [
    "scores.mean()"
   ]
  },
  {
   "cell_type": "code",
   "execution_count": 56,
   "metadata": {
    "execution": {
     "iopub.execute_input": "2020-09-18T22:13:55.130028Z",
     "iopub.status.busy": "2020-09-18T22:13:55.129183Z",
     "iopub.status.idle": "2020-09-18T22:13:55.135031Z",
     "shell.execute_reply": "2020-09-18T22:13:55.134238Z"
    },
    "papermill": {
     "duration": 0.092383,
     "end_time": "2020-09-18T22:13:55.135179",
     "exception": false,
     "start_time": "2020-09-18T22:13:55.042796",
     "status": "completed"
    },
    "tags": []
   },
   "outputs": [
    {
     "data": {
      "text/plain": [
       "array([0.82222222, 0.83146067, 0.76404494, 0.86516854, 0.83146067,\n",
       "       0.78651685, 0.82022472, 0.79775281, 0.85393258, 0.84269663])"
      ]
     },
     "execution_count": 56,
     "metadata": {},
     "output_type": "execute_result"
    }
   ],
   "source": [
    "scores"
   ]
  },
  {
   "cell_type": "code",
   "execution_count": 57,
   "metadata": {
    "execution": {
     "iopub.execute_input": "2020-09-18T22:13:55.306609Z",
     "iopub.status.busy": "2020-09-18T22:13:55.305080Z",
     "iopub.status.idle": "2020-09-18T22:13:55.843044Z",
     "shell.execute_reply": "2020-09-18T22:13:55.843689Z"
    },
    "papermill": {
     "duration": 0.62583,
     "end_time": "2020-09-18T22:13:55.843906",
     "exception": false,
     "start_time": "2020-09-18T22:13:55.218076",
     "status": "completed"
    },
    "tags": []
   },
   "outputs": [],
   "source": [
    "models = voting_clf.fit(X_train, y_train)"
   ]
  },
  {
   "cell_type": "markdown",
   "metadata": {
    "papermill": {
     "duration": 0.082339,
     "end_time": "2020-09-18T22:13:56.011707",
     "exception": false,
     "start_time": "2020-09-18T22:13:55.929368",
     "status": "completed"
    },
    "tags": []
   },
   "source": [
    "Originally I tried making an ensemble as seen above, but the results were 77% accuracy --> Worse than my best "
   ]
  },
  {
   "cell_type": "code",
   "execution_count": 58,
   "metadata": {
    "execution": {
     "iopub.execute_input": "2020-09-18T22:13:56.195187Z",
     "iopub.status.busy": "2020-09-18T22:13:56.194311Z",
     "iopub.status.idle": "2020-09-18T22:13:56.200080Z",
     "shell.execute_reply": "2020-09-18T22:13:56.199302Z"
    },
    "papermill": {
     "duration": 0.102389,
     "end_time": "2020-09-18T22:13:56.200227",
     "exception": false,
     "start_time": "2020-09-18T22:13:56.097838",
     "status": "completed"
    },
    "tags": []
   },
   "outputs": [
    {
     "name": "stdout",
     "output_type": "stream",
     "text": [
      "<class 'pandas.core.frame.DataFrame'>\n",
      "RangeIndex: 418 entries, 0 to 417\n",
      "Data columns (total 7 columns):\n",
      " #   Column       Non-Null Count  Dtype  \n",
      "---  ------       --------------  -----  \n",
      " 0   PassengerId  418 non-null    int64  \n",
      " 1   Pclass       418 non-null    int64  \n",
      " 2   Sex          418 non-null    float64\n",
      " 3   Age          418 non-null    float64\n",
      " 4   SibSp        418 non-null    int64  \n",
      " 5   Parch        418 non-null    int64  \n",
      " 6   Embarked     418 non-null    float64\n",
      "dtypes: float64(3), int64(4)\n",
      "memory usage: 23.0 KB\n"
     ]
    }
   ],
   "source": [
    "titanic_tests.info()"
   ]
  },
  {
   "cell_type": "code",
   "execution_count": 59,
   "metadata": {
    "execution": {
     "iopub.execute_input": "2020-09-18T22:13:56.377085Z",
     "iopub.status.busy": "2020-09-18T22:13:56.376186Z",
     "iopub.status.idle": "2020-09-18T22:13:56.379337Z",
     "shell.execute_reply": "2020-09-18T22:13:56.379976Z"
    },
    "papermill": {
     "duration": 0.095174,
     "end_time": "2020-09-18T22:13:56.380170",
     "exception": false,
     "start_time": "2020-09-18T22:13:56.284996",
     "status": "completed"
    },
    "tags": []
   },
   "outputs": [],
   "source": [
    "rnd_models = RandomForestClassifier(n_estimators=156, max_depth=10, random_state=42)"
   ]
  },
  {
   "cell_type": "code",
   "execution_count": 60,
   "metadata": {
    "execution": {
     "iopub.execute_input": "2020-09-18T22:13:56.555750Z",
     "iopub.status.busy": "2020-09-18T22:13:56.554977Z",
     "iopub.status.idle": "2020-09-18T22:13:56.968690Z",
     "shell.execute_reply": "2020-09-18T22:13:56.967884Z"
    },
    "papermill": {
     "duration": 0.503439,
     "end_time": "2020-09-18T22:13:56.968851",
     "exception": false,
     "start_time": "2020-09-18T22:13:56.465412",
     "status": "completed"
    },
    "tags": []
   },
   "outputs": [
    {
     "data": {
      "text/plain": [
       "RandomForestClassifier(max_depth=10, n_estimators=156, random_state=42)"
      ]
     },
     "execution_count": 60,
     "metadata": {},
     "output_type": "execute_result"
    }
   ],
   "source": [
    "rnd_models.fit(X_train, y_train)"
   ]
  },
  {
   "cell_type": "markdown",
   "metadata": {
    "papermill": {
     "duration": 0.084263,
     "end_time": "2020-09-18T22:13:57.138692",
     "exception": false,
     "start_time": "2020-09-18T22:13:57.054429",
     "status": "completed"
    },
    "tags": []
   },
   "source": [
    "I have created my best RandomForestClassifier because that model performed the best when I tested it"
   ]
  },
  {
   "cell_type": "code",
   "execution_count": 61,
   "metadata": {
    "execution": {
     "iopub.execute_input": "2020-09-18T22:13:57.312813Z",
     "iopub.status.busy": "2020-09-18T22:13:57.311970Z",
     "iopub.status.idle": "2020-09-18T22:13:57.342815Z",
     "shell.execute_reply": "2020-09-18T22:13:57.343425Z"
    },
    "papermill": {
     "duration": 0.120845,
     "end_time": "2020-09-18T22:13:57.343599",
     "exception": false,
     "start_time": "2020-09-18T22:13:57.222754",
     "status": "completed"
    },
    "tags": []
   },
   "outputs": [
    {
     "name": "stdout",
     "output_type": "stream",
     "text": [
      "[0 0 0 0 1 0 1 0 1 0 0 0 1 0 1 1 0 0 0 0 0 1 1 0 1 0 1 0 0 0 0 0 1 0 0 0 1\n",
      " 1 0 0 0 0 0 1 1 0 0 0 1 1 0 0 1 1 0 0 0 0 0 1 0 0 0 1 0 1 1 0 0 1 1 0 0 0\n",
      " 1 0 0 1 0 1 1 0 0 0 0 0 1 1 1 1 1 0 1 0 0 0 1 0 1 0 1 0 0 0 1 0 0 0 0 0 0\n",
      " 1 1 1 1 0 0 1 0 1 1 0 1 0 0 1 0 1 0 0 0 0 1 0 0 0 0 0 1 0 0 1 0 0 0 0 0 0\n",
      " 0 0 1 0 0 1 0 0 1 1 0 1 1 1 1 0 0 1 0 0 1 1 0 0 0 0 0 1 1 0 1 1 0 1 1 0 1\n",
      " 0 1 0 0 0 0 0 0 0 1 0 1 0 0 0 1 1 1 1 0 0 0 0 1 0 0 0 0 1 0 0 0 0 1 0 1 0\n",
      " 1 0 1 1 0 0 0 0 0 1 0 0 1 0 0 0 1 1 1 1 0 0 0 0 1 0 1 0 1 0 1 0 0 0 0 0 1\n",
      " 0 0 0 1 1 0 0 0 0 0 0 0 0 1 1 0 1 0 0 0 0 0 1 0 1 1 0 0 1 0 0 0 0 0 0 0 0\n",
      " 1 0 0 0 0 0 0 0 0 1 1 1 0 0 0 0 0 0 1 0 1 0 0 0 0 0 0 0 1 0 1 1 0 0 1 1 0\n",
      " 0 0 0 0 0 0 0 0 0 0 1 0 1 0 0 0 1 1 0 0 0 1 0 1 0 0 0 0 1 1 0 1 0 0 0 1 0\n",
      " 0 1 0 0 1 1 0 0 0 0 0 0 0 0 0 1 0 0 0 0 0 1 0 0 0 1 0 1 0 0 1 0 1 0 1 0 0\n",
      " 0 0 1 0 1 0 0 1 0 0 1]\n"
     ]
    }
   ],
   "source": [
    "from sklearn.metrics import accuracy_score\n",
    "yhat = rnd_models.predict(X_test)\n",
    "print(yhat)\n",
    "#accuracy_score(yhat, y_v)"
   ]
  },
  {
   "cell_type": "code",
   "execution_count": 62,
   "metadata": {
    "execution": {
     "iopub.execute_input": "2020-09-18T22:13:57.563968Z",
     "iopub.status.busy": "2020-09-18T22:13:57.562924Z",
     "iopub.status.idle": "2020-09-18T22:13:57.569619Z",
     "shell.execute_reply": "2020-09-18T22:13:57.568878Z"
    },
    "papermill": {
     "duration": 0.120662,
     "end_time": "2020-09-18T22:13:57.569769",
     "exception": false,
     "start_time": "2020-09-18T22:13:57.449107",
     "status": "completed"
    },
    "tags": []
   },
   "outputs": [
    {
     "data": {
      "text/html": [
       "<div>\n",
       "<style scoped>\n",
       "    .dataframe tbody tr th:only-of-type {\n",
       "        vertical-align: middle;\n",
       "    }\n",
       "\n",
       "    .dataframe tbody tr th {\n",
       "        vertical-align: top;\n",
       "    }\n",
       "\n",
       "    .dataframe thead th {\n",
       "        text-align: right;\n",
       "    }\n",
       "</style>\n",
       "<table border=\"1\" class=\"dataframe\">\n",
       "  <thead>\n",
       "    <tr style=\"text-align: right;\">\n",
       "      <th></th>\n",
       "      <th>PassengerId</th>\n",
       "      <th>Survived</th>\n",
       "    </tr>\n",
       "  </thead>\n",
       "  <tbody>\n",
       "    <tr>\n",
       "      <th>0</th>\n",
       "      <td>892</td>\n",
       "      <td>0</td>\n",
       "    </tr>\n",
       "    <tr>\n",
       "      <th>1</th>\n",
       "      <td>893</td>\n",
       "      <td>0</td>\n",
       "    </tr>\n",
       "    <tr>\n",
       "      <th>2</th>\n",
       "      <td>894</td>\n",
       "      <td>0</td>\n",
       "    </tr>\n",
       "    <tr>\n",
       "      <th>3</th>\n",
       "      <td>895</td>\n",
       "      <td>0</td>\n",
       "    </tr>\n",
       "    <tr>\n",
       "      <th>4</th>\n",
       "      <td>896</td>\n",
       "      <td>1</td>\n",
       "    </tr>\n",
       "  </tbody>\n",
       "</table>\n",
       "</div>"
      ],
      "text/plain": [
       "   PassengerId  Survived\n",
       "0          892         0\n",
       "1          893         0\n",
       "2          894         0\n",
       "3          895         0\n",
       "4          896         1"
      ]
     },
     "execution_count": 62,
     "metadata": {},
     "output_type": "execute_result"
    }
   ],
   "source": [
    "submission = pd.DataFrame()\n",
    "submission[\"PassengerId\"] = titanic_test[\"PassengerId\"]\n",
    "submission[\"Survived\"] = yhat\n",
    "submission.head()"
   ]
  },
  {
   "cell_type": "code",
   "execution_count": 63,
   "metadata": {
    "execution": {
     "iopub.execute_input": "2020-09-18T22:13:57.744886Z",
     "iopub.status.busy": "2020-09-18T22:13:57.744114Z",
     "iopub.status.idle": "2020-09-18T22:13:57.747400Z",
     "shell.execute_reply": "2020-09-18T22:13:57.746602Z"
    },
    "papermill": {
     "duration": 0.093272,
     "end_time": "2020-09-18T22:13:57.747527",
     "exception": false,
     "start_time": "2020-09-18T22:13:57.654255",
     "status": "completed"
    },
    "tags": []
   },
   "outputs": [],
   "source": [
    "submission[\"Survived\"] = submission[\"Survived\"].astype(int)"
   ]
  },
  {
   "cell_type": "code",
   "execution_count": 64,
   "metadata": {
    "execution": {
     "iopub.execute_input": "2020-09-18T22:13:57.926176Z",
     "iopub.status.busy": "2020-09-18T22:13:57.925198Z",
     "iopub.status.idle": "2020-09-18T22:13:57.930092Z",
     "shell.execute_reply": "2020-09-18T22:13:57.929260Z"
    },
    "papermill": {
     "duration": 0.096268,
     "end_time": "2020-09-18T22:13:57.930243",
     "exception": false,
     "start_time": "2020-09-18T22:13:57.833975",
     "status": "completed"
    },
    "tags": []
   },
   "outputs": [
    {
     "data": {
      "text/plain": [
       "418"
      ]
     },
     "execution_count": 64,
     "metadata": {},
     "output_type": "execute_result"
    }
   ],
   "source": [
    "len(submission)"
   ]
  },
  {
   "cell_type": "code",
   "execution_count": 65,
   "metadata": {
    "execution": {
     "iopub.execute_input": "2020-09-18T22:13:58.114895Z",
     "iopub.status.busy": "2020-09-18T22:13:58.114048Z",
     "iopub.status.idle": "2020-09-18T22:13:58.240704Z",
     "shell.execute_reply": "2020-09-18T22:13:58.240078Z"
    },
    "papermill": {
     "duration": 0.222465,
     "end_time": "2020-09-18T22:13:58.240882",
     "exception": false,
     "start_time": "2020-09-18T22:13:58.018417",
     "status": "completed"
    },
    "tags": []
   },
   "outputs": [],
   "source": [
    "submission.to_csv(\"submission.csv\", index = False)"
   ]
  },
  {
   "cell_type": "code",
   "execution_count": 66,
   "metadata": {
    "execution": {
     "iopub.execute_input": "2020-09-18T22:13:58.418593Z",
     "iopub.status.busy": "2020-09-18T22:13:58.417881Z",
     "iopub.status.idle": "2020-09-18T22:13:58.433809Z",
     "shell.execute_reply": "2020-09-18T22:13:58.432990Z"
    },
    "papermill": {
     "duration": 0.107199,
     "end_time": "2020-09-18T22:13:58.433954",
     "exception": false,
     "start_time": "2020-09-18T22:13:58.326755",
     "status": "completed"
    },
    "tags": []
   },
   "outputs": [
    {
     "data": {
      "text/html": [
       "<div>\n",
       "<style scoped>\n",
       "    .dataframe tbody tr th:only-of-type {\n",
       "        vertical-align: middle;\n",
       "    }\n",
       "\n",
       "    .dataframe tbody tr th {\n",
       "        vertical-align: top;\n",
       "    }\n",
       "\n",
       "    .dataframe thead th {\n",
       "        text-align: right;\n",
       "    }\n",
       "</style>\n",
       "<table border=\"1\" class=\"dataframe\">\n",
       "  <thead>\n",
       "    <tr style=\"text-align: right;\">\n",
       "      <th></th>\n",
       "      <th>PassengerId</th>\n",
       "      <th>Survived</th>\n",
       "    </tr>\n",
       "  </thead>\n",
       "  <tbody>\n",
       "    <tr>\n",
       "      <th>0</th>\n",
       "      <td>892</td>\n",
       "      <td>0</td>\n",
       "    </tr>\n",
       "    <tr>\n",
       "      <th>1</th>\n",
       "      <td>893</td>\n",
       "      <td>0</td>\n",
       "    </tr>\n",
       "    <tr>\n",
       "      <th>2</th>\n",
       "      <td>894</td>\n",
       "      <td>0</td>\n",
       "    </tr>\n",
       "    <tr>\n",
       "      <th>3</th>\n",
       "      <td>895</td>\n",
       "      <td>0</td>\n",
       "    </tr>\n",
       "    <tr>\n",
       "      <th>4</th>\n",
       "      <td>896</td>\n",
       "      <td>1</td>\n",
       "    </tr>\n",
       "  </tbody>\n",
       "</table>\n",
       "</div>"
      ],
      "text/plain": [
       "   PassengerId  Survived\n",
       "0          892         0\n",
       "1          893         0\n",
       "2          894         0\n",
       "3          895         0\n",
       "4          896         1"
      ]
     },
     "execution_count": 66,
     "metadata": {},
     "output_type": "execute_result"
    }
   ],
   "source": [
    "submissions_check = pd.read_csv(\"submission.csv\")\n",
    "submissions_check.head()"
   ]
  }
 ],
 "metadata": {
  "kernelspec": {
   "display_name": "Python 3",
   "language": "python",
   "name": "python3"
  },
  "language_info": {
   "codemirror_mode": {
    "name": "ipython",
    "version": 3
   },
   "file_extension": ".py",
   "mimetype": "text/x-python",
   "name": "python",
   "nbconvert_exporter": "python",
   "pygments_lexer": "ipython3",
   "version": "3.7.6"
  },
  "papermill": {
   "duration": 41.946445,
   "end_time": "2020-09-18T22:13:58.636668",
   "environment_variables": {},
   "exception": null,
   "input_path": "__notebook__.ipynb",
   "output_path": "__notebook__.ipynb",
   "parameters": {},
   "start_time": "2020-09-18T22:13:16.690223",
   "version": "2.1.0"
  }
 },
 "nbformat": 4,
 "nbformat_minor": 4
}
